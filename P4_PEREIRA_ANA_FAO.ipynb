{
 "cells": [
  {
   "cell_type": "markdown",
   "id": "8a6fb058",
   "metadata": {},
   "source": [
    "# P4 FAO"
   ]
  },
  {
   "cell_type": "code",
   "execution_count": 1,
   "id": "77b2e9f8",
   "metadata": {},
   "outputs": [],
   "source": [
    "import pandas as pd"
   ]
  },
  {
   "cell_type": "code",
   "execution_count": 2,
   "id": "d24bf7ca",
   "metadata": {},
   "outputs": [],
   "source": [
    "import matplotlib.pyplot as plt"
   ]
  },
  {
   "cell_type": "markdown",
   "id": "752c543b",
   "metadata": {},
   "source": [
    "# Importation des fichiers et transformation des fichiers (formats, noms colonnes)"
   ]
  },
  {
   "cell_type": "code",
   "execution_count": 3,
   "id": "ff0300e5",
   "metadata": {},
   "outputs": [],
   "source": [
    "population=pd.read_excel('/Users/anapereira/Desktop/Projets/projet 4/DAN-P4-FAO/population.xlsx')"
   ]
  },
  {
   "cell_type": "code",
   "execution_count": 4,
   "id": "9d3b4beb",
   "metadata": {},
   "outputs": [],
   "source": [
    "population['Valeur']= pd.to_numeric(population['Valeur'],errors = 'coerce')"
   ]
  },
  {
   "cell_type": "code",
   "execution_count": 5,
   "id": "a0995d3c",
   "metadata": {},
   "outputs": [],
   "source": [
    "population.rename(columns={'Valeur': 'nbre_habitants'}, inplace=True)"
   ]
  },
  {
   "cell_type": "code",
   "execution_count": 6,
   "id": "cce57618",
   "metadata": {},
   "outputs": [],
   "source": [
    "population['nbre_habitants'] *= 1000"
   ]
  },
  {
   "cell_type": "code",
   "execution_count": 7,
   "id": "1bf61351",
   "metadata": {},
   "outputs": [
    {
     "data": {
      "text/html": [
       "<div>\n",
       "<style scoped>\n",
       "    .dataframe tbody tr th:only-of-type {\n",
       "        vertical-align: middle;\n",
       "    }\n",
       "\n",
       "    .dataframe tbody tr th {\n",
       "        vertical-align: top;\n",
       "    }\n",
       "\n",
       "    .dataframe thead th {\n",
       "        text-align: right;\n",
       "    }\n",
       "</style>\n",
       "<table border=\"1\" class=\"dataframe\">\n",
       "  <thead>\n",
       "    <tr style=\"text-align: right;\">\n",
       "      <th></th>\n",
       "      <th>Zone</th>\n",
       "      <th>Année</th>\n",
       "      <th>nbre_habitants</th>\n",
       "    </tr>\n",
       "  </thead>\n",
       "  <tbody>\n",
       "    <tr>\n",
       "      <th>0</th>\n",
       "      <td>Afghanistan</td>\n",
       "      <td>2013</td>\n",
       "      <td>32269589.0</td>\n",
       "    </tr>\n",
       "    <tr>\n",
       "      <th>1</th>\n",
       "      <td>Afghanistan</td>\n",
       "      <td>2014</td>\n",
       "      <td>33370794.0</td>\n",
       "    </tr>\n",
       "    <tr>\n",
       "      <th>2</th>\n",
       "      <td>Afghanistan</td>\n",
       "      <td>2015</td>\n",
       "      <td>34413603.0</td>\n",
       "    </tr>\n",
       "    <tr>\n",
       "      <th>3</th>\n",
       "      <td>Afghanistan</td>\n",
       "      <td>2016</td>\n",
       "      <td>35383032.0</td>\n",
       "    </tr>\n",
       "    <tr>\n",
       "      <th>4</th>\n",
       "      <td>Afghanistan</td>\n",
       "      <td>2017</td>\n",
       "      <td>36296113.0</td>\n",
       "    </tr>\n",
       "  </tbody>\n",
       "</table>\n",
       "</div>"
      ],
      "text/plain": [
       "          Zone  Année  nbre_habitants\n",
       "0  Afghanistan   2013      32269589.0\n",
       "1  Afghanistan   2014      33370794.0\n",
       "2  Afghanistan   2015      34413603.0\n",
       "3  Afghanistan   2016      35383032.0\n",
       "4  Afghanistan   2017      36296113.0"
      ]
     },
     "execution_count": 7,
     "metadata": {},
     "output_type": "execute_result"
    }
   ],
   "source": [
    "population.head()"
   ]
  },
  {
   "cell_type": "code",
   "execution_count": 8,
   "id": "e7ee658b",
   "metadata": {},
   "outputs": [],
   "source": [
    "sous_nut=pd.read_excel('/Users/anapereira/Desktop/Projets/projet 4/DAN-P4-FAO/sous_nutrition.xlsx')"
   ]
  },
  {
   "cell_type": "code",
   "execution_count": 9,
   "id": "01885d2e",
   "metadata": {},
   "outputs": [],
   "source": [
    "sous_nut['Valeur']= pd.to_numeric(sous_nut['Valeur'],errors = 'coerce')"
   ]
  },
  {
   "cell_type": "code",
   "execution_count": 10,
   "id": "efcfe961",
   "metadata": {},
   "outputs": [],
   "source": [
    "sous_nut.rename(columns={'Valeur': 'sous_nutrition'}, inplace=True)"
   ]
  },
  {
   "cell_type": "code",
   "execution_count": 11,
   "id": "2eb68a3b",
   "metadata": {},
   "outputs": [],
   "source": [
    "sous_nut['sous_nutrition'] *= 1000000"
   ]
  },
  {
   "cell_type": "code",
   "execution_count": 12,
   "id": "8725fec3",
   "metadata": {},
   "outputs": [
    {
     "data": {
      "text/html": [
       "<div>\n",
       "<style scoped>\n",
       "    .dataframe tbody tr th:only-of-type {\n",
       "        vertical-align: middle;\n",
       "    }\n",
       "\n",
       "    .dataframe tbody tr th {\n",
       "        vertical-align: top;\n",
       "    }\n",
       "\n",
       "    .dataframe thead th {\n",
       "        text-align: right;\n",
       "    }\n",
       "</style>\n",
       "<table border=\"1\" class=\"dataframe\">\n",
       "  <thead>\n",
       "    <tr style=\"text-align: right;\">\n",
       "      <th></th>\n",
       "      <th>Zone</th>\n",
       "      <th>Année</th>\n",
       "      <th>sous_nutrition</th>\n",
       "    </tr>\n",
       "  </thead>\n",
       "  <tbody>\n",
       "    <tr>\n",
       "      <th>0</th>\n",
       "      <td>Afghanistan</td>\n",
       "      <td>2012-2014</td>\n",
       "      <td>8600000.0</td>\n",
       "    </tr>\n",
       "    <tr>\n",
       "      <th>1</th>\n",
       "      <td>Afghanistan</td>\n",
       "      <td>2013-2015</td>\n",
       "      <td>8800000.0</td>\n",
       "    </tr>\n",
       "    <tr>\n",
       "      <th>2</th>\n",
       "      <td>Afghanistan</td>\n",
       "      <td>2014-2016</td>\n",
       "      <td>8900000.0</td>\n",
       "    </tr>\n",
       "    <tr>\n",
       "      <th>3</th>\n",
       "      <td>Afghanistan</td>\n",
       "      <td>2015-2017</td>\n",
       "      <td>9700000.0</td>\n",
       "    </tr>\n",
       "    <tr>\n",
       "      <th>4</th>\n",
       "      <td>Afghanistan</td>\n",
       "      <td>2016-2018</td>\n",
       "      <td>10500000.0</td>\n",
       "    </tr>\n",
       "  </tbody>\n",
       "</table>\n",
       "</div>"
      ],
      "text/plain": [
       "          Zone      Année  sous_nutrition\n",
       "0  Afghanistan  2012-2014       8600000.0\n",
       "1  Afghanistan  2013-2015       8800000.0\n",
       "2  Afghanistan  2014-2016       8900000.0\n",
       "3  Afghanistan  2015-2017       9700000.0\n",
       "4  Afghanistan  2016-2018      10500000.0"
      ]
     },
     "execution_count": 12,
     "metadata": {},
     "output_type": "execute_result"
    }
   ],
   "source": [
    "sous_nut.head()"
   ]
  },
  {
   "cell_type": "code",
   "execution_count": 13,
   "id": "3bec3ca3",
   "metadata": {},
   "outputs": [],
   "source": [
    "dispo_alimentaire=pd.read_excel('/Users/anapereira/Desktop/Projets/projet 4/DAN-P4-FAO/dispo_alimentaire.xlsx')"
   ]
  },
  {
   "cell_type": "code",
   "execution_count": 14,
   "id": "a303dfa9",
   "metadata": {},
   "outputs": [],
   "source": [
    "dispo_alimentaire[['Aliments pour animaux','Autres Utilisations','Exportations - Quantité','Importations - Quantité',\n",
    "                   'Nourriture','Pertes','Production','Semences','Traitement',\n",
    "                   'Variation de stock']] = dispo_alimentaire[['Aliments pour animaux','Autres Utilisations',\n",
    "                                                               'Exportations - Quantité','Importations - Quantité',\n",
    "                                                               'Nourriture','Pertes','Production','Semences',\n",
    "                                                               'Traitement',\n",
    "                                                               'Variation de stock']].apply(pd.to_numeric,\n",
    "                                                                                            errors = 'coerce')"
   ]
  },
  {
   "cell_type": "code",
   "execution_count": 15,
   "id": "4cf9f808",
   "metadata": {},
   "outputs": [],
   "source": [
    "dispo_alimentaire[['Aliments pour animaux','Autres Utilisations','Exportations - Quantité','Importations - Quantité',\n",
    "                   'Nourriture','Pertes','Production','Semences','Traitement','Variation de stock']] *= 1000"
   ]
  },
  {
   "cell_type": "code",
   "execution_count": 16,
   "id": "ac0abc17",
   "metadata": {},
   "outputs": [],
   "source": [
    "dispo_alimentaire['Disponibilité intérieure']*=1000"
   ]
  },
  {
   "cell_type": "code",
   "execution_count": 17,
   "id": "32290dc7",
   "metadata": {},
   "outputs": [
    {
     "data": {
      "text/html": [
       "<div>\n",
       "<style scoped>\n",
       "    .dataframe tbody tr th:only-of-type {\n",
       "        vertical-align: middle;\n",
       "    }\n",
       "\n",
       "    .dataframe tbody tr th {\n",
       "        vertical-align: top;\n",
       "    }\n",
       "\n",
       "    .dataframe thead th {\n",
       "        text-align: right;\n",
       "    }\n",
       "</style>\n",
       "<table border=\"1\" class=\"dataframe\">\n",
       "  <thead>\n",
       "    <tr style=\"text-align: right;\">\n",
       "      <th></th>\n",
       "      <th>Zone</th>\n",
       "      <th>Produit</th>\n",
       "      <th>Origine</th>\n",
       "      <th>Aliments pour animaux</th>\n",
       "      <th>Autres Utilisations</th>\n",
       "      <th>Disponibilité alimentaire (Kcal/personne/jour)</th>\n",
       "      <th>Disponibilité alimentaire en quantité (kg/personne/an)</th>\n",
       "      <th>Disponibilité de matière grasse en quantité (g/personne/jour)</th>\n",
       "      <th>Disponibilité de protéines en quantité (g/personne/jour)</th>\n",
       "      <th>Disponibilité intérieure</th>\n",
       "      <th>Exportations - Quantité</th>\n",
       "      <th>Importations - Quantité</th>\n",
       "      <th>Nourriture</th>\n",
       "      <th>Pertes</th>\n",
       "      <th>Production</th>\n",
       "      <th>Semences</th>\n",
       "      <th>Traitement</th>\n",
       "      <th>Variation de stock</th>\n",
       "    </tr>\n",
       "  </thead>\n",
       "  <tbody>\n",
       "    <tr>\n",
       "      <th>0</th>\n",
       "      <td>Afghanistan</td>\n",
       "      <td>Abats Comestible</td>\n",
       "      <td>animale</td>\n",
       "      <td>NaN</td>\n",
       "      <td>NaN</td>\n",
       "      <td>5.0</td>\n",
       "      <td>1.72</td>\n",
       "      <td>0.20</td>\n",
       "      <td>0.77</td>\n",
       "      <td>53000.0</td>\n",
       "      <td>NaN</td>\n",
       "      <td>NaN</td>\n",
       "      <td>53000.0</td>\n",
       "      <td>NaN</td>\n",
       "      <td>53000.0</td>\n",
       "      <td>NaN</td>\n",
       "      <td>NaN</td>\n",
       "      <td>NaN</td>\n",
       "    </tr>\n",
       "    <tr>\n",
       "      <th>1</th>\n",
       "      <td>Afghanistan</td>\n",
       "      <td>Agrumes, Autres</td>\n",
       "      <td>vegetale</td>\n",
       "      <td>NaN</td>\n",
       "      <td>NaN</td>\n",
       "      <td>1.0</td>\n",
       "      <td>1.29</td>\n",
       "      <td>0.01</td>\n",
       "      <td>0.02</td>\n",
       "      <td>41000.0</td>\n",
       "      <td>2000.0</td>\n",
       "      <td>40000.0</td>\n",
       "      <td>39000.0</td>\n",
       "      <td>2000.0</td>\n",
       "      <td>3000.0</td>\n",
       "      <td>NaN</td>\n",
       "      <td>NaN</td>\n",
       "      <td>NaN</td>\n",
       "    </tr>\n",
       "    <tr>\n",
       "      <th>2</th>\n",
       "      <td>Afghanistan</td>\n",
       "      <td>Aliments pour enfants</td>\n",
       "      <td>vegetale</td>\n",
       "      <td>NaN</td>\n",
       "      <td>NaN</td>\n",
       "      <td>1.0</td>\n",
       "      <td>0.06</td>\n",
       "      <td>0.01</td>\n",
       "      <td>0.03</td>\n",
       "      <td>2000.0</td>\n",
       "      <td>NaN</td>\n",
       "      <td>2000.0</td>\n",
       "      <td>2000.0</td>\n",
       "      <td>NaN</td>\n",
       "      <td>NaN</td>\n",
       "      <td>NaN</td>\n",
       "      <td>NaN</td>\n",
       "      <td>NaN</td>\n",
       "    </tr>\n",
       "    <tr>\n",
       "      <th>3</th>\n",
       "      <td>Afghanistan</td>\n",
       "      <td>Ananas</td>\n",
       "      <td>vegetale</td>\n",
       "      <td>NaN</td>\n",
       "      <td>NaN</td>\n",
       "      <td>0.0</td>\n",
       "      <td>0.00</td>\n",
       "      <td>NaN</td>\n",
       "      <td>NaN</td>\n",
       "      <td>0.0</td>\n",
       "      <td>NaN</td>\n",
       "      <td>0.0</td>\n",
       "      <td>0.0</td>\n",
       "      <td>NaN</td>\n",
       "      <td>NaN</td>\n",
       "      <td>NaN</td>\n",
       "      <td>NaN</td>\n",
       "      <td>NaN</td>\n",
       "    </tr>\n",
       "    <tr>\n",
       "      <th>4</th>\n",
       "      <td>Afghanistan</td>\n",
       "      <td>Bananes</td>\n",
       "      <td>vegetale</td>\n",
       "      <td>NaN</td>\n",
       "      <td>NaN</td>\n",
       "      <td>4.0</td>\n",
       "      <td>2.70</td>\n",
       "      <td>0.02</td>\n",
       "      <td>0.05</td>\n",
       "      <td>82000.0</td>\n",
       "      <td>NaN</td>\n",
       "      <td>82000.0</td>\n",
       "      <td>82000.0</td>\n",
       "      <td>NaN</td>\n",
       "      <td>NaN</td>\n",
       "      <td>NaN</td>\n",
       "      <td>NaN</td>\n",
       "      <td>NaN</td>\n",
       "    </tr>\n",
       "  </tbody>\n",
       "</table>\n",
       "</div>"
      ],
      "text/plain": [
       "          Zone                Produit   Origine  Aliments pour animaux  \\\n",
       "0  Afghanistan       Abats Comestible   animale                    NaN   \n",
       "1  Afghanistan        Agrumes, Autres  vegetale                    NaN   \n",
       "2  Afghanistan  Aliments pour enfants  vegetale                    NaN   \n",
       "3  Afghanistan                 Ananas  vegetale                    NaN   \n",
       "4  Afghanistan                Bananes  vegetale                    NaN   \n",
       "\n",
       "   Autres Utilisations  Disponibilité alimentaire (Kcal/personne/jour)  \\\n",
       "0                  NaN                                             5.0   \n",
       "1                  NaN                                             1.0   \n",
       "2                  NaN                                             1.0   \n",
       "3                  NaN                                             0.0   \n",
       "4                  NaN                                             4.0   \n",
       "\n",
       "   Disponibilité alimentaire en quantité (kg/personne/an)  \\\n",
       "0                                               1.72        \n",
       "1                                               1.29        \n",
       "2                                               0.06        \n",
       "3                                               0.00        \n",
       "4                                               2.70        \n",
       "\n",
       "   Disponibilité de matière grasse en quantité (g/personne/jour)  \\\n",
       "0                                               0.20               \n",
       "1                                               0.01               \n",
       "2                                               0.01               \n",
       "3                                                NaN               \n",
       "4                                               0.02               \n",
       "\n",
       "   Disponibilité de protéines en quantité (g/personne/jour)  \\\n",
       "0                                               0.77          \n",
       "1                                               0.02          \n",
       "2                                               0.03          \n",
       "3                                                NaN          \n",
       "4                                               0.05          \n",
       "\n",
       "   Disponibilité intérieure  Exportations - Quantité  Importations - Quantité  \\\n",
       "0                   53000.0                      NaN                      NaN   \n",
       "1                   41000.0                   2000.0                  40000.0   \n",
       "2                    2000.0                      NaN                   2000.0   \n",
       "3                       0.0                      NaN                      0.0   \n",
       "4                   82000.0                      NaN                  82000.0   \n",
       "\n",
       "   Nourriture  Pertes  Production  Semences  Traitement  Variation de stock  \n",
       "0     53000.0     NaN     53000.0       NaN         NaN                 NaN  \n",
       "1     39000.0  2000.0      3000.0       NaN         NaN                 NaN  \n",
       "2      2000.0     NaN         NaN       NaN         NaN                 NaN  \n",
       "3         0.0     NaN         NaN       NaN         NaN                 NaN  \n",
       "4     82000.0     NaN         NaN       NaN         NaN                 NaN  "
      ]
     },
     "execution_count": 17,
     "metadata": {},
     "output_type": "execute_result"
    }
   ],
   "source": [
    "dispo_alimentaire.head()"
   ]
  },
  {
   "cell_type": "code",
   "execution_count": 18,
   "id": "89533ffb",
   "metadata": {},
   "outputs": [],
   "source": [
    "aide_alimentaire=pd.read_excel('/Users/anapereira/Desktop/Projets/projet 4/DAN-P4-FAO/aide_alimentaire.xlsx')"
   ]
  },
  {
   "cell_type": "code",
   "execution_count": 19,
   "id": "85f40467",
   "metadata": {},
   "outputs": [],
   "source": [
    "aide_alimentaire['Valeur']= pd.to_numeric(aide_alimentaire['Valeur'],errors = 'coerce')"
   ]
  },
  {
   "cell_type": "code",
   "execution_count": 20,
   "id": "4d6564d4",
   "metadata": {},
   "outputs": [],
   "source": [
    "aide_alimentaire.rename(columns={'Valeur': 'Quantite_aide'}, inplace=True)"
   ]
  },
  {
   "cell_type": "code",
   "execution_count": 21,
   "id": "1a28cf10",
   "metadata": {},
   "outputs": [],
   "source": [
    "aide_alimentaire.rename(columns={'Pays bénéficiaire': 'Zone'}, inplace=True)"
   ]
  },
  {
   "cell_type": "markdown",
   "id": "38baebd6",
   "metadata": {},
   "source": [
    "# 1- La proportion de personnes en état de sous-nutrition"
   ]
  },
  {
   "cell_type": "markdown",
   "id": "4f71a418",
   "metadata": {},
   "source": [
    "## Jointure sur 'Zone' entre population et sous_nut et séléction Année 2017 et 2016-2018"
   ]
  },
  {
   "cell_type": "code",
   "execution_count": 22,
   "id": "03bba726",
   "metadata": {},
   "outputs": [],
   "source": [
    "prop_sous_nutrition_2017 = pd.merge(population.loc[population['Année'] == 2017,['Zone', 'nbre_habitants']],\n",
    "                               sous_nut.loc[sous_nut['Année'] == '2016-2018',['Zone', 'sous_nutrition']],\n",
    "                               on='Zone')"
   ]
  },
  {
   "cell_type": "code",
   "execution_count": 23,
   "id": "92a531ce",
   "metadata": {},
   "outputs": [
    {
     "name": "stdout",
     "output_type": "stream",
     "text": [
      "En 2017, il y a  535.70 millions de personnes en sous-nutrition\n"
     ]
    }
   ],
   "source": [
    "print(\"En 2017, il y a \",\"{:.2f}\".format(prop_sous_nutrition_2017['sous_nutrition'].sum()/1000000),\n",
    "      \"millions de personnes en sous-nutrition\")"
   ]
  },
  {
   "cell_type": "code",
   "execution_count": 24,
   "id": "3b22cb56",
   "metadata": {},
   "outputs": [
    {
     "name": "stdout",
     "output_type": "stream",
     "text": [
      "Proportion de personnes en état de sous-nutrition en 2017 : 7.10 %\n"
     ]
    }
   ],
   "source": [
    "print(\"Proportion de personnes en état de sous-nutrition en 2017 :\",\n",
    "      \"{:.2f}\".format(prop_sous_nutrition_2017['sous_nutrition'].sum()\n",
    "                      *100/prop_sous_nutrition_2017['nbre_habitants'].sum()), \"%\")"
   ]
  },
  {
   "cell_type": "markdown",
   "id": "deddec74",
   "metadata": {},
   "source": [
    "# 2- Le nombre théorique de personnes qui pourraient être nourries"
   ]
  },
  {
   "cell_type": "code",
   "execution_count": 25,
   "id": "50d84176",
   "metadata": {},
   "outputs": [],
   "source": [
    "dispo_alimentaire_theorique = pd.merge(population.loc[population['Année'] == 2013,['Zone', 'nbre_habitants']],\n",
    "                               dispo_alimentaire.groupby(['Zone'])['Disponibilité alimentaire (Kcal/personne/jour)'].sum(),\n",
    "                               on='Zone')"
   ]
  },
  {
   "cell_type": "code",
   "execution_count": 26,
   "id": "907f3812",
   "metadata": {},
   "outputs": [
    {
     "data": {
      "text/html": [
       "<div>\n",
       "<style scoped>\n",
       "    .dataframe tbody tr th:only-of-type {\n",
       "        vertical-align: middle;\n",
       "    }\n",
       "\n",
       "    .dataframe tbody tr th {\n",
       "        vertical-align: top;\n",
       "    }\n",
       "\n",
       "    .dataframe thead th {\n",
       "        text-align: right;\n",
       "    }\n",
       "</style>\n",
       "<table border=\"1\" class=\"dataframe\">\n",
       "  <thead>\n",
       "    <tr style=\"text-align: right;\">\n",
       "      <th></th>\n",
       "      <th>Zone</th>\n",
       "      <th>nbre_habitants</th>\n",
       "      <th>Disponibilité alimentaire (Kcal/personne/jour)</th>\n",
       "    </tr>\n",
       "  </thead>\n",
       "  <tbody>\n",
       "    <tr>\n",
       "      <th>0</th>\n",
       "      <td>Afghanistan</td>\n",
       "      <td>32269589.0</td>\n",
       "      <td>2087.0</td>\n",
       "    </tr>\n",
       "    <tr>\n",
       "      <th>1</th>\n",
       "      <td>Afrique du Sud</td>\n",
       "      <td>53687121.0</td>\n",
       "      <td>3020.0</td>\n",
       "    </tr>\n",
       "    <tr>\n",
       "      <th>2</th>\n",
       "      <td>Albanie</td>\n",
       "      <td>2903790.0</td>\n",
       "      <td>3188.0</td>\n",
       "    </tr>\n",
       "    <tr>\n",
       "      <th>3</th>\n",
       "      <td>Algérie</td>\n",
       "      <td>38140133.0</td>\n",
       "      <td>3293.0</td>\n",
       "    </tr>\n",
       "    <tr>\n",
       "      <th>4</th>\n",
       "      <td>Allemagne</td>\n",
       "      <td>81174367.0</td>\n",
       "      <td>3503.0</td>\n",
       "    </tr>\n",
       "  </tbody>\n",
       "</table>\n",
       "</div>"
      ],
      "text/plain": [
       "             Zone  nbre_habitants  \\\n",
       "0     Afghanistan      32269589.0   \n",
       "1  Afrique du Sud      53687121.0   \n",
       "2         Albanie       2903790.0   \n",
       "3         Algérie      38140133.0   \n",
       "4       Allemagne      81174367.0   \n",
       "\n",
       "   Disponibilité alimentaire (Kcal/personne/jour)  \n",
       "0                                          2087.0  \n",
       "1                                          3020.0  \n",
       "2                                          3188.0  \n",
       "3                                          3293.0  \n",
       "4                                          3503.0  "
      ]
     },
     "execution_count": 26,
     "metadata": {},
     "output_type": "execute_result"
    }
   ],
   "source": [
    "dispo_alimentaire_theorique.head()"
   ]
  },
  {
   "cell_type": "code",
   "execution_count": 27,
   "id": "94b57699",
   "metadata": {},
   "outputs": [],
   "source": [
    "dispo_alimentaire_theorique['Dispo_kcal'] = dispo_alimentaire_theorique[\n",
    "    'Disponibilité alimentaire (Kcal/personne/jour)'] * dispo_alimentaire_theorique['nbre_habitants']"
   ]
  },
  {
   "cell_type": "code",
   "execution_count": 28,
   "id": "0c7c4b7a",
   "metadata": {},
   "outputs": [
    {
     "data": {
      "text/html": [
       "<div>\n",
       "<style scoped>\n",
       "    .dataframe tbody tr th:only-of-type {\n",
       "        vertical-align: middle;\n",
       "    }\n",
       "\n",
       "    .dataframe tbody tr th {\n",
       "        vertical-align: top;\n",
       "    }\n",
       "\n",
       "    .dataframe thead th {\n",
       "        text-align: right;\n",
       "    }\n",
       "</style>\n",
       "<table border=\"1\" class=\"dataframe\">\n",
       "  <thead>\n",
       "    <tr style=\"text-align: right;\">\n",
       "      <th></th>\n",
       "      <th>Zone</th>\n",
       "      <th>nbre_habitants</th>\n",
       "      <th>Disponibilité alimentaire (Kcal/personne/jour)</th>\n",
       "      <th>Dispo_kcal</th>\n",
       "    </tr>\n",
       "  </thead>\n",
       "  <tbody>\n",
       "    <tr>\n",
       "      <th>0</th>\n",
       "      <td>Afghanistan</td>\n",
       "      <td>32269589.0</td>\n",
       "      <td>2087.0</td>\n",
       "      <td>6.734663e+10</td>\n",
       "    </tr>\n",
       "    <tr>\n",
       "      <th>1</th>\n",
       "      <td>Afrique du Sud</td>\n",
       "      <td>53687121.0</td>\n",
       "      <td>3020.0</td>\n",
       "      <td>1.621351e+11</td>\n",
       "    </tr>\n",
       "    <tr>\n",
       "      <th>2</th>\n",
       "      <td>Albanie</td>\n",
       "      <td>2903790.0</td>\n",
       "      <td>3188.0</td>\n",
       "      <td>9.257283e+09</td>\n",
       "    </tr>\n",
       "    <tr>\n",
       "      <th>3</th>\n",
       "      <td>Algérie</td>\n",
       "      <td>38140133.0</td>\n",
       "      <td>3293.0</td>\n",
       "      <td>1.255955e+11</td>\n",
       "    </tr>\n",
       "    <tr>\n",
       "      <th>4</th>\n",
       "      <td>Allemagne</td>\n",
       "      <td>81174367.0</td>\n",
       "      <td>3503.0</td>\n",
       "      <td>2.843538e+11</td>\n",
       "    </tr>\n",
       "  </tbody>\n",
       "</table>\n",
       "</div>"
      ],
      "text/plain": [
       "             Zone  nbre_habitants  \\\n",
       "0     Afghanistan      32269589.0   \n",
       "1  Afrique du Sud      53687121.0   \n",
       "2         Albanie       2903790.0   \n",
       "3         Algérie      38140133.0   \n",
       "4       Allemagne      81174367.0   \n",
       "\n",
       "   Disponibilité alimentaire (Kcal/personne/jour)    Dispo_kcal  \n",
       "0                                          2087.0  6.734663e+10  \n",
       "1                                          3020.0  1.621351e+11  \n",
       "2                                          3188.0  9.257283e+09  \n",
       "3                                          3293.0  1.255955e+11  \n",
       "4                                          3503.0  2.843538e+11  "
      ]
     },
     "execution_count": 28,
     "metadata": {},
     "output_type": "execute_result"
    }
   ],
   "source": [
    "dispo_alimentaire_theorique.head()"
   ]
  },
  {
   "cell_type": "code",
   "execution_count": 29,
   "id": "b33e0b94",
   "metadata": {},
   "outputs": [
    {
     "name": "stdout",
     "output_type": "stream",
     "text": [
      "Nombre théorique de personnes qui pourraient être nourries : 8017745251.16\n"
     ]
    }
   ],
   "source": [
    "print(\"Nombre théorique de personnes qui pourraient être nourries :\",\n",
    "      \"{:.2f}\".format(dispo_alimentaire_theorique['Dispo_kcal'].sum()/2500 ))"
   ]
  },
  {
   "cell_type": "code",
   "execution_count": 30,
   "id": "81582029",
   "metadata": {},
   "outputs": [
    {
     "name": "stdout",
     "output_type": "stream",
     "text": [
      "Pourcentage de la population mondiale qui pourraient être nourrie : 115.04 %\n"
     ]
    }
   ],
   "source": [
    "print(\"Pourcentage de la population mondiale qui pourraient être nourrie :\",\n",
    "      \"{:.2f}\".format(dispo_alimentaire_theorique['Dispo_kcal'].sum()/2500*100/dispo_alimentaire_theorique\n",
    "                      ['nbre_habitants'].sum()),\"%\")"
   ]
  },
  {
   "cell_type": "markdown",
   "id": "bdb8d0b8",
   "metadata": {},
   "source": [
    "# 3- Le nombre théorique de personnes qui pourraient être nourries (avec les produits végétaux uniquement)"
   ]
  },
  {
   "cell_type": "code",
   "execution_count": 31,
   "id": "1fcc459e",
   "metadata": {},
   "outputs": [],
   "source": [
    "etape_dispo_alimentaire=dispo_alimentaire.loc[dispo_alimentaire['Origine']== 'vegetale']"
   ]
  },
  {
   "cell_type": "code",
   "execution_count": 32,
   "id": "c0b9d232",
   "metadata": {},
   "outputs": [],
   "source": [
    "dispo_alimentaire_theorique_veg = pd.merge(population.loc[population['Année'] == 2013,['Zone', 'nbre_habitants']],\n",
    "                               etape_dispo_alimentaire.groupby(\n",
    "                                   ['Zone'])['Disponibilité alimentaire (Kcal/personne/jour)'].sum(), \n",
    "                               on='Zone')"
   ]
  },
  {
   "cell_type": "code",
   "execution_count": 33,
   "id": "3e61ee52",
   "metadata": {},
   "outputs": [
    {
     "data": {
      "text/html": [
       "<div>\n",
       "<style scoped>\n",
       "    .dataframe tbody tr th:only-of-type {\n",
       "        vertical-align: middle;\n",
       "    }\n",
       "\n",
       "    .dataframe tbody tr th {\n",
       "        vertical-align: top;\n",
       "    }\n",
       "\n",
       "    .dataframe thead th {\n",
       "        text-align: right;\n",
       "    }\n",
       "</style>\n",
       "<table border=\"1\" class=\"dataframe\">\n",
       "  <thead>\n",
       "    <tr style=\"text-align: right;\">\n",
       "      <th></th>\n",
       "      <th>Zone</th>\n",
       "      <th>nbre_habitants</th>\n",
       "      <th>Disponibilité alimentaire (Kcal/personne/jour)</th>\n",
       "    </tr>\n",
       "  </thead>\n",
       "  <tbody>\n",
       "    <tr>\n",
       "      <th>0</th>\n",
       "      <td>Afghanistan</td>\n",
       "      <td>32269589.0</td>\n",
       "      <td>1871.0</td>\n",
       "    </tr>\n",
       "    <tr>\n",
       "      <th>1</th>\n",
       "      <td>Afrique du Sud</td>\n",
       "      <td>53687121.0</td>\n",
       "      <td>2533.0</td>\n",
       "    </tr>\n",
       "    <tr>\n",
       "      <th>2</th>\n",
       "      <td>Albanie</td>\n",
       "      <td>2903790.0</td>\n",
       "      <td>2203.0</td>\n",
       "    </tr>\n",
       "    <tr>\n",
       "      <th>3</th>\n",
       "      <td>Algérie</td>\n",
       "      <td>38140133.0</td>\n",
       "      <td>2915.0</td>\n",
       "    </tr>\n",
       "    <tr>\n",
       "      <th>4</th>\n",
       "      <td>Allemagne</td>\n",
       "      <td>81174367.0</td>\n",
       "      <td>2461.0</td>\n",
       "    </tr>\n",
       "  </tbody>\n",
       "</table>\n",
       "</div>"
      ],
      "text/plain": [
       "             Zone  nbre_habitants  \\\n",
       "0     Afghanistan      32269589.0   \n",
       "1  Afrique du Sud      53687121.0   \n",
       "2         Albanie       2903790.0   \n",
       "3         Algérie      38140133.0   \n",
       "4       Allemagne      81174367.0   \n",
       "\n",
       "   Disponibilité alimentaire (Kcal/personne/jour)  \n",
       "0                                          1871.0  \n",
       "1                                          2533.0  \n",
       "2                                          2203.0  \n",
       "3                                          2915.0  \n",
       "4                                          2461.0  "
      ]
     },
     "execution_count": 33,
     "metadata": {},
     "output_type": "execute_result"
    }
   ],
   "source": [
    "dispo_alimentaire_theorique_veg.head()"
   ]
  },
  {
   "cell_type": "code",
   "execution_count": 34,
   "id": "24563cf6",
   "metadata": {},
   "outputs": [],
   "source": [
    "dispo_alimentaire_theorique_veg['Dispo_kcal'] = dispo_alimentaire_theorique_veg[\n",
    "    'Disponibilité alimentaire (Kcal/personne/jour)'] * dispo_alimentaire_theorique_veg['nbre_habitants']"
   ]
  },
  {
   "cell_type": "code",
   "execution_count": 35,
   "id": "0a689084",
   "metadata": {},
   "outputs": [
    {
     "data": {
      "text/html": [
       "<div>\n",
       "<style scoped>\n",
       "    .dataframe tbody tr th:only-of-type {\n",
       "        vertical-align: middle;\n",
       "    }\n",
       "\n",
       "    .dataframe tbody tr th {\n",
       "        vertical-align: top;\n",
       "    }\n",
       "\n",
       "    .dataframe thead th {\n",
       "        text-align: right;\n",
       "    }\n",
       "</style>\n",
       "<table border=\"1\" class=\"dataframe\">\n",
       "  <thead>\n",
       "    <tr style=\"text-align: right;\">\n",
       "      <th></th>\n",
       "      <th>Zone</th>\n",
       "      <th>nbre_habitants</th>\n",
       "      <th>Disponibilité alimentaire (Kcal/personne/jour)</th>\n",
       "      <th>Dispo_kcal</th>\n",
       "    </tr>\n",
       "  </thead>\n",
       "  <tbody>\n",
       "    <tr>\n",
       "      <th>0</th>\n",
       "      <td>Afghanistan</td>\n",
       "      <td>32269589.0</td>\n",
       "      <td>1871.0</td>\n",
       "      <td>6.037640e+10</td>\n",
       "    </tr>\n",
       "    <tr>\n",
       "      <th>1</th>\n",
       "      <td>Afrique du Sud</td>\n",
       "      <td>53687121.0</td>\n",
       "      <td>2533.0</td>\n",
       "      <td>1.359895e+11</td>\n",
       "    </tr>\n",
       "    <tr>\n",
       "      <th>2</th>\n",
       "      <td>Albanie</td>\n",
       "      <td>2903790.0</td>\n",
       "      <td>2203.0</td>\n",
       "      <td>6.397049e+09</td>\n",
       "    </tr>\n",
       "    <tr>\n",
       "      <th>3</th>\n",
       "      <td>Algérie</td>\n",
       "      <td>38140133.0</td>\n",
       "      <td>2915.0</td>\n",
       "      <td>1.111785e+11</td>\n",
       "    </tr>\n",
       "    <tr>\n",
       "      <th>4</th>\n",
       "      <td>Allemagne</td>\n",
       "      <td>81174367.0</td>\n",
       "      <td>2461.0</td>\n",
       "      <td>1.997701e+11</td>\n",
       "    </tr>\n",
       "  </tbody>\n",
       "</table>\n",
       "</div>"
      ],
      "text/plain": [
       "             Zone  nbre_habitants  \\\n",
       "0     Afghanistan      32269589.0   \n",
       "1  Afrique du Sud      53687121.0   \n",
       "2         Albanie       2903790.0   \n",
       "3         Algérie      38140133.0   \n",
       "4       Allemagne      81174367.0   \n",
       "\n",
       "   Disponibilité alimentaire (Kcal/personne/jour)    Dispo_kcal  \n",
       "0                                          1871.0  6.037640e+10  \n",
       "1                                          2533.0  1.359895e+11  \n",
       "2                                          2203.0  6.397049e+09  \n",
       "3                                          2915.0  1.111785e+11  \n",
       "4                                          2461.0  1.997701e+11  "
      ]
     },
     "execution_count": 35,
     "metadata": {},
     "output_type": "execute_result"
    }
   ],
   "source": [
    "dispo_alimentaire_theorique_veg.head()"
   ]
  },
  {
   "cell_type": "code",
   "execution_count": 36,
   "id": "2a28cb4a",
   "metadata": {},
   "outputs": [
    {
     "name": "stdout",
     "output_type": "stream",
     "text": [
      "Nombre théorique de personnes qui pourraient être nourries avec les produits végétaux uniquement : 6602669561.34\n"
     ]
    }
   ],
   "source": [
    "print(\"Nombre théorique de personnes qui pourraient être nourries avec les produits végétaux uniquement :\",\n",
    "      \"{:.2f}\".format(dispo_alimentaire_theorique_veg['Dispo_kcal'].sum()/2500 ))"
   ]
  },
  {
   "cell_type": "code",
   "execution_count": 37,
   "id": "354d2698",
   "metadata": {},
   "outputs": [
    {
     "name": "stdout",
     "output_type": "stream",
     "text": [
      "Pourcentage de la population mondiale qui pourraient être nourrie avec des produits végétaux uniquement : 94.73 %\n"
     ]
    }
   ],
   "source": [
    "print(\"Pourcentage de la population mondiale qui pourraient être nourrie avec des produits végétaux uniquement :\",\n",
    "      \"{:.2f}\".format(dispo_alimentaire_theorique_veg['Dispo_kcal'].sum()/2500*100/dispo_alimentaire_theorique_veg\n",
    "                      ['nbre_habitants'].sum()),\"%\")"
   ]
  },
  {
   "cell_type": "markdown",
   "id": "b9d692c2",
   "metadata": {},
   "source": [
    "# 4- Utilisation de la disponibilité intérieure (alimentation animale, nourriture humaine et pertes)"
   ]
  },
  {
   "cell_type": "code",
   "execution_count": 38,
   "id": "06e3ebab",
   "metadata": {},
   "outputs": [
    {
     "name": "stdout",
     "output_type": "stream",
     "text": [
      "Part utilisée pour la nourriture humaine de la disponibilité intérieure :  49.51 %\n"
     ]
    }
   ],
   "source": [
    "print(\"Part utilisée pour la nourriture humaine de la disponibilité intérieure : \",\n",
    "      \"{:.2f}\".format(dispo_alimentaire['Nourriture'].sum()*100/dispo_alimentaire['Disponibilité intérieure'].sum()),\n",
    "      \"%\")"
   ]
  },
  {
   "cell_type": "code",
   "execution_count": 39,
   "id": "89fc9816",
   "metadata": {},
   "outputs": [
    {
     "name": "stdout",
     "output_type": "stream",
     "text": [
      "Part utilisée pour l'alimentation animale de la disponibilité intérieure :  13.24 %\n"
     ]
    }
   ],
   "source": [
    "print(\"Part utilisée pour l'alimentation animale de la disponibilité intérieure : \",\n",
    "      \"{:.2f}\".format(dispo_alimentaire['Aliments pour animaux'].sum()*100/dispo_alimentaire\n",
    "                      ['Disponibilité intérieure'].sum()), \"%\")"
   ]
  },
  {
   "cell_type": "code",
   "execution_count": 40,
   "id": "b2cf7189",
   "metadata": {},
   "outputs": [
    {
     "name": "stdout",
     "output_type": "stream",
     "text": [
      "Part perdue de la disponibilité intérieure :  4.61 %\n"
     ]
    }
   ],
   "source": [
    "print(\"Part perdue de la disponibilité intérieure : \",\n",
    "      \"{:.2f}\".format(dispo_alimentaire['Pertes'].sum()*100/dispo_alimentaire['Disponibilité intérieure'].sum()), \"%\")"
   ]
  },
  {
   "cell_type": "code",
   "execution_count": 41,
   "id": "85a7dd74",
   "metadata": {},
   "outputs": [
    {
     "name": "stdout",
     "output_type": "stream",
     "text": [
      "Proportion de  Nourriture 49.51 %\n",
      "Proportion de  Pertes 4.61 %\n",
      "Proportion de  Aliments pour animaux 13.24 %\n",
      "Proportion de  Autres Utilisations 8.78 %\n",
      "Proportion de  Semences 1.57 %\n",
      "Proportion de  Traitement 22.38 %\n"
     ]
    }
   ],
   "source": [
    "dispo_test=dispo_alimentaire['Disponibilité intérieure'].sum()\n",
    "for e in ['Nourriture','Pertes','Aliments pour animaux','Autres Utilisations','Semences','Traitement'] :\n",
    "        print(\"Proportion de \",e,\"{:.2f}\".format(dispo_alimentaire[e].sum()*100/dispo_test), \"%\")                    "
   ]
  },
  {
   "cell_type": "markdown",
   "id": "a1286ea6",
   "metadata": {},
   "source": [
    "## Utilisation de la disponibilité intérieure : illustrations des données"
   ]
  },
  {
   "cell_type": "code",
   "execution_count": 42,
   "id": "f26b29be",
   "metadata": {},
   "outputs": [],
   "source": [
    "dispo_pour_plot = dispo_alimentaire[['Nourriture','Pertes','Aliments pour animaux','Autres Utilisations','Semences',\n",
    "                                     'Traitement']].copy()"
   ]
  },
  {
   "cell_type": "code",
   "execution_count": 43,
   "id": "26e875a1",
   "metadata": {},
   "outputs": [
    {
     "name": "stdout",
     "output_type": "stream",
     "text": [
      "Nourriture               4.876258e+09\n",
      "Pertes                   4.536980e+08\n",
      "Aliments pour animaux    1.304245e+09\n",
      "Autres Utilisations      8.650230e+08\n",
      "Semences                 1.546810e+08\n",
      "Traitement               2.204687e+09\n",
      "dtype: float64\n"
     ]
    }
   ],
   "source": [
    "dispo_pour_plot1=dispo_pour_plot.sum(axis=0)\n",
    "print(dispo_pour_plot1)"
   ]
  },
  {
   "cell_type": "code",
   "execution_count": 44,
   "id": "fa9106b6",
   "metadata": {},
   "outputs": [],
   "source": [
    "plage_donnees = ['Nourriture','Pertes','Aliments pour animaux','Autres Utilisations','Semences','Traitement']"
   ]
  },
  {
   "cell_type": "code",
   "execution_count": 45,
   "id": "ead40634",
   "metadata": {},
   "outputs": [
    {
     "data": {
      "image/png": "[encoded data removed]",
      "text/plain": [
       "<Figure size 864x576 with 1 Axes>"
      ]
     },
     "metadata": {},
     "output_type": "display_data"
    },
    {
     "data": {
      "text/plain": [
       "<Figure size 432x288 with 0 Axes>"
      ]
     },
     "metadata": {},
     "output_type": "display_data"
    }
   ],
   "source": [
    "plt.figure(figsize=(12,8))\n",
    "plt.pie(dispo_pour_plot1,labels=plage_donnees,autopct='%1.1f%%',\n",
    "        colors=['#0071C6','#008DB8','#00AAAA','#00C69C','#00E28E','#00FF80'])\n",
    "plt.title('Utilisation des disponibilités intérieures',fontsize=25)\n",
    "plt.axis('equal')\n",
    "plt.show()\n",
    "plt.savefig('Utilisation_dispo_interieures.png')"
   ]
  },
  {
   "cell_type": "markdown",
   "id": "f35cc84c",
   "metadata": {},
   "source": [
    "# 5- Les pays pour lesquels la proportion de personnes sous-alimentées est la plus forte en 2017"
   ]
  },
  {
   "cell_type": "code",
   "execution_count": 46,
   "id": "bb498130",
   "metadata": {},
   "outputs": [
    {
     "data": {
      "text/html": [
       "<div>\n",
       "<style scoped>\n",
       "    .dataframe tbody tr th:only-of-type {\n",
       "        vertical-align: middle;\n",
       "    }\n",
       "\n",
       "    .dataframe tbody tr th {\n",
       "        vertical-align: top;\n",
       "    }\n",
       "\n",
       "    .dataframe thead th {\n",
       "        text-align: right;\n",
       "    }\n",
       "</style>\n",
       "<table border=\"1\" class=\"dataframe\">\n",
       "  <thead>\n",
       "    <tr style=\"text-align: right;\">\n",
       "      <th></th>\n",
       "      <th>Zone</th>\n",
       "      <th>nbre_habitants</th>\n",
       "      <th>sous_nutrition</th>\n",
       "      <th>proportion_par_pays</th>\n",
       "    </tr>\n",
       "  </thead>\n",
       "  <tbody>\n",
       "    <tr>\n",
       "      <th>0</th>\n",
       "      <td>Afghanistan</td>\n",
       "      <td>36296113.0</td>\n",
       "      <td>10500000.0</td>\n",
       "      <td>28.928718</td>\n",
       "    </tr>\n",
       "    <tr>\n",
       "      <th>1</th>\n",
       "      <td>Afrique du Sud</td>\n",
       "      <td>57009756.0</td>\n",
       "      <td>3100000.0</td>\n",
       "      <td>5.437666</td>\n",
       "    </tr>\n",
       "    <tr>\n",
       "      <th>2</th>\n",
       "      <td>Albanie</td>\n",
       "      <td>2884169.0</td>\n",
       "      <td>100000.0</td>\n",
       "      <td>3.467203</td>\n",
       "    </tr>\n",
       "    <tr>\n",
       "      <th>3</th>\n",
       "      <td>Algérie</td>\n",
       "      <td>41389189.0</td>\n",
       "      <td>1300000.0</td>\n",
       "      <td>3.140917</td>\n",
       "    </tr>\n",
       "    <tr>\n",
       "      <th>4</th>\n",
       "      <td>Allemagne</td>\n",
       "      <td>82658409.0</td>\n",
       "      <td>NaN</td>\n",
       "      <td>NaN</td>\n",
       "    </tr>\n",
       "  </tbody>\n",
       "</table>\n",
       "</div>"
      ],
      "text/plain": [
       "             Zone  nbre_habitants  sous_nutrition  proportion_par_pays\n",
       "0     Afghanistan      36296113.0      10500000.0            28.928718\n",
       "1  Afrique du Sud      57009756.0       3100000.0             5.437666\n",
       "2         Albanie       2884169.0        100000.0             3.467203\n",
       "3         Algérie      41389189.0       1300000.0             3.140917\n",
       "4       Allemagne      82658409.0             NaN                  NaN"
      ]
     },
     "execution_count": 46,
     "metadata": {},
     "output_type": "execute_result"
    }
   ],
   "source": [
    "prop_sous_nutrition_2017['proportion_par_pays']=prop_sous_nutrition_2017[\n",
    "    'sous_nutrition']*100/prop_sous_nutrition_2017['nbre_habitants']\n",
    "prop_sous_nutrition_2017.head()"
   ]
  },
  {
   "cell_type": "code",
   "execution_count": 47,
   "id": "377d6ac2",
   "metadata": {},
   "outputs": [
    {
     "data": {
      "text/html": [
       "<div>\n",
       "<style scoped>\n",
       "    .dataframe tbody tr th:only-of-type {\n",
       "        vertical-align: middle;\n",
       "    }\n",
       "\n",
       "    .dataframe tbody tr th {\n",
       "        vertical-align: top;\n",
       "    }\n",
       "\n",
       "    .dataframe thead th {\n",
       "        text-align: right;\n",
       "    }\n",
       "</style>\n",
       "<table border=\"1\" class=\"dataframe\">\n",
       "  <thead>\n",
       "    <tr style=\"text-align: right;\">\n",
       "      <th></th>\n",
       "      <th>Zone</th>\n",
       "      <th>proportion_par_pays</th>\n",
       "    </tr>\n",
       "  </thead>\n",
       "  <tbody>\n",
       "    <tr>\n",
       "      <th>78</th>\n",
       "      <td>Haïti</td>\n",
       "      <td>48.259182</td>\n",
       "    </tr>\n",
       "    <tr>\n",
       "      <th>157</th>\n",
       "      <td>République populaire démocratique de Corée</td>\n",
       "      <td>47.188685</td>\n",
       "    </tr>\n",
       "    <tr>\n",
       "      <th>108</th>\n",
       "      <td>Madagascar</td>\n",
       "      <td>41.062924</td>\n",
       "    </tr>\n",
       "    <tr>\n",
       "      <th>103</th>\n",
       "      <td>Libéria</td>\n",
       "      <td>38.279742</td>\n",
       "    </tr>\n",
       "    <tr>\n",
       "      <th>100</th>\n",
       "      <td>Lesotho</td>\n",
       "      <td>38.249438</td>\n",
       "    </tr>\n",
       "    <tr>\n",
       "      <th>183</th>\n",
       "      <td>Tchad</td>\n",
       "      <td>37.957606</td>\n",
       "    </tr>\n",
       "    <tr>\n",
       "      <th>161</th>\n",
       "      <td>Rwanda</td>\n",
       "      <td>35.055619</td>\n",
       "    </tr>\n",
       "    <tr>\n",
       "      <th>121</th>\n",
       "      <td>Mozambique</td>\n",
       "      <td>32.810898</td>\n",
       "    </tr>\n",
       "    <tr>\n",
       "      <th>186</th>\n",
       "      <td>Timor-Leste</td>\n",
       "      <td>32.173531</td>\n",
       "    </tr>\n",
       "    <tr>\n",
       "      <th>0</th>\n",
       "      <td>Afghanistan</td>\n",
       "      <td>28.928718</td>\n",
       "    </tr>\n",
       "  </tbody>\n",
       "</table>\n",
       "</div>"
      ],
      "text/plain": [
       "                                           Zone  proportion_par_pays\n",
       "78                                        Haïti            48.259182\n",
       "157  République populaire démocratique de Corée            47.188685\n",
       "108                                  Madagascar            41.062924\n",
       "103                                     Libéria            38.279742\n",
       "100                                     Lesotho            38.249438\n",
       "183                                       Tchad            37.957606\n",
       "161                                      Rwanda            35.055619\n",
       "121                                  Mozambique            32.810898\n",
       "186                                 Timor-Leste            32.173531\n",
       "0                                   Afghanistan            28.928718"
      ]
     },
     "execution_count": 47,
     "metadata": {},
     "output_type": "execute_result"
    }
   ],
   "source": [
    "prop_sous_nutrition_2017[['Zone','proportion_par_pays']].sort_values(\n",
    "    'proportion_par_pays',ascending=False).head(10)"
   ]
  },
  {
   "cell_type": "markdown",
   "id": "d38d3e69",
   "metadata": {},
   "source": [
    "# 6- Les pays qui ont le plus bénéficié d’aide depuis 2013"
   ]
  },
  {
   "cell_type": "code",
   "execution_count": 48,
   "id": "7795794d",
   "metadata": {},
   "outputs": [
    {
     "data": {
      "text/html": [
       "<div>\n",
       "<style scoped>\n",
       "    .dataframe tbody tr th:only-of-type {\n",
       "        vertical-align: middle;\n",
       "    }\n",
       "\n",
       "    .dataframe tbody tr th {\n",
       "        vertical-align: top;\n",
       "    }\n",
       "\n",
       "    .dataframe thead th {\n",
       "        text-align: right;\n",
       "    }\n",
       "</style>\n",
       "<table border=\"1\" class=\"dataframe\">\n",
       "  <thead>\n",
       "    <tr style=\"text-align: right;\">\n",
       "      <th></th>\n",
       "      <th>Quantite_aide</th>\n",
       "    </tr>\n",
       "    <tr>\n",
       "      <th>Zone</th>\n",
       "      <th></th>\n",
       "    </tr>\n",
       "  </thead>\n",
       "  <tbody>\n",
       "    <tr>\n",
       "      <th>République arabe syrienne</th>\n",
       "      <td>1858943</td>\n",
       "    </tr>\n",
       "    <tr>\n",
       "      <th>Éthiopie</th>\n",
       "      <td>1381294</td>\n",
       "    </tr>\n",
       "    <tr>\n",
       "      <th>Yémen</th>\n",
       "      <td>1206484</td>\n",
       "    </tr>\n",
       "    <tr>\n",
       "      <th>Soudan du Sud</th>\n",
       "      <td>695248</td>\n",
       "    </tr>\n",
       "    <tr>\n",
       "      <th>Soudan</th>\n",
       "      <td>669784</td>\n",
       "    </tr>\n",
       "    <tr>\n",
       "      <th>Kenya</th>\n",
       "      <td>552836</td>\n",
       "    </tr>\n",
       "    <tr>\n",
       "      <th>Bangladesh</th>\n",
       "      <td>348188</td>\n",
       "    </tr>\n",
       "    <tr>\n",
       "      <th>Somalie</th>\n",
       "      <td>292678</td>\n",
       "    </tr>\n",
       "    <tr>\n",
       "      <th>République démocratique du Congo</th>\n",
       "      <td>288502</td>\n",
       "    </tr>\n",
       "    <tr>\n",
       "      <th>Niger</th>\n",
       "      <td>276344</td>\n",
       "    </tr>\n",
       "  </tbody>\n",
       "</table>\n",
       "</div>"
      ],
      "text/plain": [
       "                                  Quantite_aide\n",
       "Zone                                           \n",
       "République arabe syrienne               1858943\n",
       "Éthiopie                                1381294\n",
       "Yémen                                   1206484\n",
       "Soudan du Sud                            695248\n",
       "Soudan                                   669784\n",
       "Kenya                                    552836\n",
       "Bangladesh                               348188\n",
       "Somalie                                  292678\n",
       "République démocratique du Congo         288502\n",
       "Niger                                    276344"
      ]
     },
     "execution_count": 48,
     "metadata": {},
     "output_type": "execute_result"
    }
   ],
   "source": [
    "total_aide_alimentaire=aide_alimentaire[['Zone','Quantite_aide']].groupby(['Zone']).sum()\n",
    "total_aide_alimentaire.sort_values('Quantite_aide',ascending=False).head(10)"
   ]
  },
  {
   "cell_type": "markdown",
   "id": "5f8d8f87",
   "metadata": {},
   "source": [
    "# 7.1- Les pays ayant le plus de disponibilité par habitant"
   ]
  },
  {
   "cell_type": "code",
   "execution_count": 49,
   "id": "c79da2ec",
   "metadata": {},
   "outputs": [
    {
     "data": {
      "text/html": [
       "<div>\n",
       "<style scoped>\n",
       "    .dataframe tbody tr th:only-of-type {\n",
       "        vertical-align: middle;\n",
       "    }\n",
       "\n",
       "    .dataframe tbody tr th {\n",
       "        vertical-align: top;\n",
       "    }\n",
       "\n",
       "    .dataframe thead th {\n",
       "        text-align: right;\n",
       "    }\n",
       "</style>\n",
       "<table border=\"1\" class=\"dataframe\">\n",
       "  <thead>\n",
       "    <tr style=\"text-align: right;\">\n",
       "      <th></th>\n",
       "      <th>Zone</th>\n",
       "      <th>nbre_habitants</th>\n",
       "      <th>Disponibilité alimentaire (Kcal/personne/jour)</th>\n",
       "      <th>Dispo_kcal</th>\n",
       "    </tr>\n",
       "  </thead>\n",
       "  <tbody>\n",
       "    <tr>\n",
       "      <th>0</th>\n",
       "      <td>Afghanistan</td>\n",
       "      <td>32269589.0</td>\n",
       "      <td>2087.0</td>\n",
       "      <td>6.734663e+10</td>\n",
       "    </tr>\n",
       "    <tr>\n",
       "      <th>1</th>\n",
       "      <td>Afrique du Sud</td>\n",
       "      <td>53687121.0</td>\n",
       "      <td>3020.0</td>\n",
       "      <td>1.621351e+11</td>\n",
       "    </tr>\n",
       "    <tr>\n",
       "      <th>2</th>\n",
       "      <td>Albanie</td>\n",
       "      <td>2903790.0</td>\n",
       "      <td>3188.0</td>\n",
       "      <td>9.257283e+09</td>\n",
       "    </tr>\n",
       "    <tr>\n",
       "      <th>3</th>\n",
       "      <td>Algérie</td>\n",
       "      <td>38140133.0</td>\n",
       "      <td>3293.0</td>\n",
       "      <td>1.255955e+11</td>\n",
       "    </tr>\n",
       "    <tr>\n",
       "      <th>4</th>\n",
       "      <td>Allemagne</td>\n",
       "      <td>81174367.0</td>\n",
       "      <td>3503.0</td>\n",
       "      <td>2.843538e+11</td>\n",
       "    </tr>\n",
       "  </tbody>\n",
       "</table>\n",
       "</div>"
      ],
      "text/plain": [
       "             Zone  nbre_habitants  \\\n",
       "0     Afghanistan      32269589.0   \n",
       "1  Afrique du Sud      53687121.0   \n",
       "2         Albanie       2903790.0   \n",
       "3         Algérie      38140133.0   \n",
       "4       Allemagne      81174367.0   \n",
       "\n",
       "   Disponibilité alimentaire (Kcal/personne/jour)    Dispo_kcal  \n",
       "0                                          2087.0  6.734663e+10  \n",
       "1                                          3020.0  1.621351e+11  \n",
       "2                                          3188.0  9.257283e+09  \n",
       "3                                          3293.0  1.255955e+11  \n",
       "4                                          3503.0  2.843538e+11  "
      ]
     },
     "execution_count": 49,
     "metadata": {},
     "output_type": "execute_result"
    }
   ],
   "source": [
    "dispo_alimentaire_theorique.head()"
   ]
  },
  {
   "cell_type": "code",
   "execution_count": 50,
   "id": "4d6b654e",
   "metadata": {},
   "outputs": [
    {
     "data": {
      "text/html": [
       "<div>\n",
       "<style scoped>\n",
       "    .dataframe tbody tr th:only-of-type {\n",
       "        vertical-align: middle;\n",
       "    }\n",
       "\n",
       "    .dataframe tbody tr th {\n",
       "        vertical-align: top;\n",
       "    }\n",
       "\n",
       "    .dataframe thead th {\n",
       "        text-align: right;\n",
       "    }\n",
       "</style>\n",
       "<table border=\"1\" class=\"dataframe\">\n",
       "  <thead>\n",
       "    <tr style=\"text-align: right;\">\n",
       "      <th></th>\n",
       "      <th>Disponibilité alimentaire (Kcal/personne/jour)</th>\n",
       "    </tr>\n",
       "    <tr>\n",
       "      <th>Zone</th>\n",
       "      <th></th>\n",
       "    </tr>\n",
       "  </thead>\n",
       "  <tbody>\n",
       "    <tr>\n",
       "      <th>Autriche</th>\n",
       "      <td>3770.0</td>\n",
       "    </tr>\n",
       "    <tr>\n",
       "      <th>Belgique</th>\n",
       "      <td>3737.0</td>\n",
       "    </tr>\n",
       "    <tr>\n",
       "      <th>Turquie</th>\n",
       "      <td>3708.0</td>\n",
       "    </tr>\n",
       "    <tr>\n",
       "      <th>États-Unis d'Amérique</th>\n",
       "      <td>3682.0</td>\n",
       "    </tr>\n",
       "    <tr>\n",
       "      <th>Israël</th>\n",
       "      <td>3610.0</td>\n",
       "    </tr>\n",
       "    <tr>\n",
       "      <th>Irlande</th>\n",
       "      <td>3602.0</td>\n",
       "    </tr>\n",
       "    <tr>\n",
       "      <th>Italie</th>\n",
       "      <td>3578.0</td>\n",
       "    </tr>\n",
       "    <tr>\n",
       "      <th>Luxembourg</th>\n",
       "      <td>3540.0</td>\n",
       "    </tr>\n",
       "    <tr>\n",
       "      <th>Égypte</th>\n",
       "      <td>3518.0</td>\n",
       "    </tr>\n",
       "    <tr>\n",
       "      <th>Allemagne</th>\n",
       "      <td>3503.0</td>\n",
       "    </tr>\n",
       "  </tbody>\n",
       "</table>\n",
       "</div>"
      ],
      "text/plain": [
       "                       Disponibilité alimentaire (Kcal/personne/jour)\n",
       "Zone                                                                 \n",
       "Autriche                                                       3770.0\n",
       "Belgique                                                       3737.0\n",
       "Turquie                                                        3708.0\n",
       "États-Unis d'Amérique                                          3682.0\n",
       "Israël                                                         3610.0\n",
       "Irlande                                                        3602.0\n",
       "Italie                                                         3578.0\n",
       "Luxembourg                                                     3540.0\n",
       "Égypte                                                         3518.0\n",
       "Allemagne                                                      3503.0"
      ]
     },
     "execution_count": 50,
     "metadata": {},
     "output_type": "execute_result"
    }
   ],
   "source": [
    "dispo_alimentaire_theorique2=dispo_alimentaire_theorique[\n",
    "    ['Zone','Disponibilité alimentaire (Kcal/personne/jour)']].groupby(['Zone']).sum()\n",
    "dispo_alimentaire_theorique2.sort_values('Disponibilité alimentaire (Kcal/personne/jour)',ascending=False).head(10)"
   ]
  },
  {
   "cell_type": "markdown",
   "id": "fc5192cb",
   "metadata": {},
   "source": [
    "# 7.2- Les pays ayant le moins de disponibilité par habitant"
   ]
  },
  {
   "cell_type": "code",
   "execution_count": 51,
   "id": "929bc442",
   "metadata": {},
   "outputs": [
    {
     "data": {
      "text/html": [
       "<div>\n",
       "<style scoped>\n",
       "    .dataframe tbody tr th:only-of-type {\n",
       "        vertical-align: middle;\n",
       "    }\n",
       "\n",
       "    .dataframe tbody tr th {\n",
       "        vertical-align: top;\n",
       "    }\n",
       "\n",
       "    .dataframe thead th {\n",
       "        text-align: right;\n",
       "    }\n",
       "</style>\n",
       "<table border=\"1\" class=\"dataframe\">\n",
       "  <thead>\n",
       "    <tr style=\"text-align: right;\">\n",
       "      <th></th>\n",
       "      <th>Disponibilité alimentaire (Kcal/personne/jour)</th>\n",
       "    </tr>\n",
       "    <tr>\n",
       "      <th>Zone</th>\n",
       "      <th></th>\n",
       "    </tr>\n",
       "  </thead>\n",
       "  <tbody>\n",
       "    <tr>\n",
       "      <th>République centrafricaine</th>\n",
       "      <td>1879.0</td>\n",
       "    </tr>\n",
       "    <tr>\n",
       "      <th>Zambie</th>\n",
       "      <td>1924.0</td>\n",
       "    </tr>\n",
       "    <tr>\n",
       "      <th>Madagascar</th>\n",
       "      <td>2056.0</td>\n",
       "    </tr>\n",
       "    <tr>\n",
       "      <th>Afghanistan</th>\n",
       "      <td>2087.0</td>\n",
       "    </tr>\n",
       "    <tr>\n",
       "      <th>Haïti</th>\n",
       "      <td>2089.0</td>\n",
       "    </tr>\n",
       "    <tr>\n",
       "      <th>République populaire démocratique de Corée</th>\n",
       "      <td>2093.0</td>\n",
       "    </tr>\n",
       "    <tr>\n",
       "      <th>Tchad</th>\n",
       "      <td>2109.0</td>\n",
       "    </tr>\n",
       "    <tr>\n",
       "      <th>Zimbabwe</th>\n",
       "      <td>2113.0</td>\n",
       "    </tr>\n",
       "    <tr>\n",
       "      <th>Ouganda</th>\n",
       "      <td>2126.0</td>\n",
       "    </tr>\n",
       "    <tr>\n",
       "      <th>Timor-Leste</th>\n",
       "      <td>2129.0</td>\n",
       "    </tr>\n",
       "  </tbody>\n",
       "</table>\n",
       "</div>"
      ],
      "text/plain": [
       "                                            Disponibilité alimentaire (Kcal/personne/jour)\n",
       "Zone                                                                                      \n",
       "République centrafricaine                                                           1879.0\n",
       "Zambie                                                                              1924.0\n",
       "Madagascar                                                                          2056.0\n",
       "Afghanistan                                                                         2087.0\n",
       "Haïti                                                                               2089.0\n",
       "République populaire démocratique de Corée                                          2093.0\n",
       "Tchad                                                                               2109.0\n",
       "Zimbabwe                                                                            2113.0\n",
       "Ouganda                                                                             2126.0\n",
       "Timor-Leste                                                                         2129.0"
      ]
     },
     "execution_count": 51,
     "metadata": {},
     "output_type": "execute_result"
    }
   ],
   "source": [
    "dispo_alimentaire_theorique2.sort_values('Disponibilité alimentaire (Kcal/personne/jour)',ascending=True).head(10)"
   ]
  },
  {
   "cell_type": "markdown",
   "id": "f449f885",
   "metadata": {},
   "source": [
    "# 8- Les pays qui semblent être le plus en difficulté au niveau alimentaire (données 2013)"
   ]
  },
  {
   "cell_type": "markdown",
   "id": "20d847ff",
   "metadata": {},
   "source": [
    "### Calcul de la proportion de sous-nutrition par pays en 2013 pour utilisation ultérieure"
   ]
  },
  {
   "cell_type": "code",
   "execution_count": 52,
   "id": "439aa2a3",
   "metadata": {},
   "outputs": [],
   "source": [
    "prop_sous_nutrition_2013 = pd.merge(population.loc[population['Année'] == 2013,['Zone', 'nbre_habitants']],\n",
    "                               sous_nut.loc[sous_nut['Année'] == '2012-2014',['Zone', 'sous_nutrition']],\n",
    "                               on='Zone')"
   ]
  },
  {
   "cell_type": "code",
   "execution_count": 53,
   "id": "ed4b1e9d",
   "metadata": {},
   "outputs": [
    {
     "name": "stdout",
     "output_type": "stream",
     "text": [
      "7206670140.0\n"
     ]
    }
   ],
   "source": [
    "print(prop_sous_nutrition_2013['nbre_habitants'].sum())"
   ]
  },
  {
   "cell_type": "code",
   "execution_count": 54,
   "id": "95eb567b",
   "metadata": {},
   "outputs": [],
   "source": [
    "prop_sous_nutrition_2013['proportion_par_pays']=prop_sous_nutrition_2013[\n",
    "    'sous_nutrition']*100/prop_sous_nutrition_2013['nbre_habitants']"
   ]
  },
  {
   "cell_type": "code",
   "execution_count": 55,
   "id": "87ddaaa0",
   "metadata": {},
   "outputs": [
    {
     "data": {
      "text/html": [
       "<div>\n",
       "<style scoped>\n",
       "    .dataframe tbody tr th:only-of-type {\n",
       "        vertical-align: middle;\n",
       "    }\n",
       "\n",
       "    .dataframe tbody tr th {\n",
       "        vertical-align: top;\n",
       "    }\n",
       "\n",
       "    .dataframe thead th {\n",
       "        text-align: right;\n",
       "    }\n",
       "</style>\n",
       "<table border=\"1\" class=\"dataframe\">\n",
       "  <thead>\n",
       "    <tr style=\"text-align: right;\">\n",
       "      <th></th>\n",
       "      <th>Zone</th>\n",
       "      <th>proportion_par_pays</th>\n",
       "    </tr>\n",
       "  </thead>\n",
       "  <tbody>\n",
       "    <tr>\n",
       "      <th>78</th>\n",
       "      <td>Haïti</td>\n",
       "      <td>49.035279</td>\n",
       "    </tr>\n",
       "    <tr>\n",
       "      <th>157</th>\n",
       "      <td>République populaire démocratique de Corée</td>\n",
       "      <td>41.316518</td>\n",
       "    </tr>\n",
       "    <tr>\n",
       "      <th>183</th>\n",
       "      <td>Tchad</td>\n",
       "      <td>37.063839</td>\n",
       "    </tr>\n",
       "    <tr>\n",
       "      <th>103</th>\n",
       "      <td>Libéria</td>\n",
       "      <td>35.307958</td>\n",
       "    </tr>\n",
       "    <tr>\n",
       "      <th>186</th>\n",
       "      <td>Timor-Leste</td>\n",
       "      <td>34.683264</td>\n",
       "    </tr>\n",
       "    <tr>\n",
       "      <th>108</th>\n",
       "      <td>Madagascar</td>\n",
       "      <td>33.099236</td>\n",
       "    </tr>\n",
       "    <tr>\n",
       "      <th>171</th>\n",
       "      <td>Sierra Leone</td>\n",
       "      <td>32.051371</td>\n",
       "    </tr>\n",
       "    <tr>\n",
       "      <th>44</th>\n",
       "      <td>Congo</td>\n",
       "      <td>30.284925</td>\n",
       "    </tr>\n",
       "    <tr>\n",
       "      <th>6</th>\n",
       "      <td>Angola</td>\n",
       "      <td>29.213038</td>\n",
       "    </tr>\n",
       "    <tr>\n",
       "      <th>158</th>\n",
       "      <td>République-Unie de Tanzanie</td>\n",
       "      <td>27.844737</td>\n",
       "    </tr>\n",
       "  </tbody>\n",
       "</table>\n",
       "</div>"
      ],
      "text/plain": [
       "                                           Zone  proportion_par_pays\n",
       "78                                        Haïti            49.035279\n",
       "157  République populaire démocratique de Corée            41.316518\n",
       "183                                       Tchad            37.063839\n",
       "103                                     Libéria            35.307958\n",
       "186                                 Timor-Leste            34.683264\n",
       "108                                  Madagascar            33.099236\n",
       "171                                Sierra Leone            32.051371\n",
       "44                                        Congo            30.284925\n",
       "6                                        Angola            29.213038\n",
       "158                 République-Unie de Tanzanie            27.844737"
      ]
     },
     "execution_count": 55,
     "metadata": {},
     "output_type": "execute_result"
    }
   ],
   "source": [
    "prop_sous_nutrition_2013[['Zone','proportion_par_pays']].sort_values('proportion_par_pays',ascending=False).head(10)"
   ]
  },
  {
   "cell_type": "markdown",
   "id": "b36dc317",
   "metadata": {},
   "source": [
    "## 8-1 Utilisation des céréales part nourriture et part alimentation animale 2013"
   ]
  },
  {
   "cell_type": "markdown",
   "id": "da5ef278",
   "metadata": {},
   "source": [
    "#### dispo_alimentaire selectionner Produit = ('les cereales')"
   ]
  },
  {
   "cell_type": "code",
   "execution_count": 56,
   "id": "fba6e6d5",
   "metadata": {},
   "outputs": [],
   "source": [
    "dispo_cereales=dispo_alimentaire[\n",
    "    dispo_alimentaire['Produit'].isin(['Avoine','Blé','Céréales, Autres','Maïs','Millet','Orge',\n",
    "                                       'Riz /(Eq Blanchi/)','Sorgho','Seigle'])]"
   ]
  },
  {
   "cell_type": "code",
   "execution_count": 57,
   "id": "7f812134",
   "metadata": {},
   "outputs": [
    {
     "data": {
      "text/html": [
       "<div>\n",
       "<style scoped>\n",
       "    .dataframe tbody tr th:only-of-type {\n",
       "        vertical-align: middle;\n",
       "    }\n",
       "\n",
       "    .dataframe tbody tr th {\n",
       "        vertical-align: top;\n",
       "    }\n",
       "\n",
       "    .dataframe thead th {\n",
       "        text-align: right;\n",
       "    }\n",
       "</style>\n",
       "<table border=\"1\" class=\"dataframe\">\n",
       "  <thead>\n",
       "    <tr style=\"text-align: right;\">\n",
       "      <th></th>\n",
       "      <th>Zone</th>\n",
       "      <th>Produit</th>\n",
       "      <th>Origine</th>\n",
       "      <th>Aliments pour animaux</th>\n",
       "      <th>Autres Utilisations</th>\n",
       "      <th>Disponibilité alimentaire (Kcal/personne/jour)</th>\n",
       "      <th>Disponibilité alimentaire en quantité (kg/personne/an)</th>\n",
       "      <th>Disponibilité de matière grasse en quantité (g/personne/jour)</th>\n",
       "      <th>Disponibilité de protéines en quantité (g/personne/jour)</th>\n",
       "      <th>Disponibilité intérieure</th>\n",
       "      <th>Exportations - Quantité</th>\n",
       "      <th>Importations - Quantité</th>\n",
       "      <th>Nourriture</th>\n",
       "      <th>Pertes</th>\n",
       "      <th>Production</th>\n",
       "      <th>Semences</th>\n",
       "      <th>Traitement</th>\n",
       "      <th>Variation de stock</th>\n",
       "    </tr>\n",
       "  </thead>\n",
       "  <tbody>\n",
       "    <tr>\n",
       "      <th>7</th>\n",
       "      <td>Afghanistan</td>\n",
       "      <td>Blé</td>\n",
       "      <td>vegetale</td>\n",
       "      <td>NaN</td>\n",
       "      <td>NaN</td>\n",
       "      <td>1369.0</td>\n",
       "      <td>160.23</td>\n",
       "      <td>4.69</td>\n",
       "      <td>36.91</td>\n",
       "      <td>5992000.0</td>\n",
       "      <td>NaN</td>\n",
       "      <td>1173000.0</td>\n",
       "      <td>4895000.0</td>\n",
       "      <td>775000.0</td>\n",
       "      <td>5169000.0</td>\n",
       "      <td>322000.0</td>\n",
       "      <td>NaN</td>\n",
       "      <td>-350000.0</td>\n",
       "    </tr>\n",
       "    <tr>\n",
       "      <th>12</th>\n",
       "      <td>Afghanistan</td>\n",
       "      <td>Céréales, Autres</td>\n",
       "      <td>vegetale</td>\n",
       "      <td>NaN</td>\n",
       "      <td>NaN</td>\n",
       "      <td>0.0</td>\n",
       "      <td>0.00</td>\n",
       "      <td>0.00</td>\n",
       "      <td>0.00</td>\n",
       "      <td>0.0</td>\n",
       "      <td>NaN</td>\n",
       "      <td>0.0</td>\n",
       "      <td>0.0</td>\n",
       "      <td>NaN</td>\n",
       "      <td>NaN</td>\n",
       "      <td>NaN</td>\n",
       "      <td>NaN</td>\n",
       "      <td>NaN</td>\n",
       "    </tr>\n",
       "    <tr>\n",
       "      <th>32</th>\n",
       "      <td>Afghanistan</td>\n",
       "      <td>Maïs</td>\n",
       "      <td>vegetale</td>\n",
       "      <td>200000.0</td>\n",
       "      <td>NaN</td>\n",
       "      <td>21.0</td>\n",
       "      <td>2.50</td>\n",
       "      <td>0.30</td>\n",
       "      <td>0.56</td>\n",
       "      <td>313000.0</td>\n",
       "      <td>0.0</td>\n",
       "      <td>1000.0</td>\n",
       "      <td>76000.0</td>\n",
       "      <td>31000.0</td>\n",
       "      <td>312000.0</td>\n",
       "      <td>5000.0</td>\n",
       "      <td>NaN</td>\n",
       "      <td>NaN</td>\n",
       "    </tr>\n",
       "    <tr>\n",
       "      <th>34</th>\n",
       "      <td>Afghanistan</td>\n",
       "      <td>Millet</td>\n",
       "      <td>vegetale</td>\n",
       "      <td>NaN</td>\n",
       "      <td>NaN</td>\n",
       "      <td>3.0</td>\n",
       "      <td>0.40</td>\n",
       "      <td>0.02</td>\n",
       "      <td>0.08</td>\n",
       "      <td>13000.0</td>\n",
       "      <td>NaN</td>\n",
       "      <td>NaN</td>\n",
       "      <td>12000.0</td>\n",
       "      <td>1000.0</td>\n",
       "      <td>13000.0</td>\n",
       "      <td>0.0</td>\n",
       "      <td>NaN</td>\n",
       "      <td>NaN</td>\n",
       "    </tr>\n",
       "    <tr>\n",
       "      <th>40</th>\n",
       "      <td>Afghanistan</td>\n",
       "      <td>Orge</td>\n",
       "      <td>vegetale</td>\n",
       "      <td>360000.0</td>\n",
       "      <td>NaN</td>\n",
       "      <td>26.0</td>\n",
       "      <td>2.92</td>\n",
       "      <td>0.24</td>\n",
       "      <td>0.79</td>\n",
       "      <td>524000.0</td>\n",
       "      <td>NaN</td>\n",
       "      <td>10000.0</td>\n",
       "      <td>89000.0</td>\n",
       "      <td>52000.0</td>\n",
       "      <td>514000.0</td>\n",
       "      <td>22000.0</td>\n",
       "      <td>NaN</td>\n",
       "      <td>0.0</td>\n",
       "    </tr>\n",
       "  </tbody>\n",
       "</table>\n",
       "</div>"
      ],
      "text/plain": [
       "           Zone           Produit   Origine  Aliments pour animaux  \\\n",
       "7   Afghanistan               Blé  vegetale                    NaN   \n",
       "12  Afghanistan  Céréales, Autres  vegetale                    NaN   \n",
       "32  Afghanistan              Maïs  vegetale               200000.0   \n",
       "34  Afghanistan            Millet  vegetale                    NaN   \n",
       "40  Afghanistan              Orge  vegetale               360000.0   \n",
       "\n",
       "    Autres Utilisations  Disponibilité alimentaire (Kcal/personne/jour)  \\\n",
       "7                   NaN                                          1369.0   \n",
       "12                  NaN                                             0.0   \n",
       "32                  NaN                                            21.0   \n",
       "34                  NaN                                             3.0   \n",
       "40                  NaN                                            26.0   \n",
       "\n",
       "    Disponibilité alimentaire en quantité (kg/personne/an)  \\\n",
       "7                                              160.23        \n",
       "12                                               0.00        \n",
       "32                                               2.50        \n",
       "34                                               0.40        \n",
       "40                                               2.92        \n",
       "\n",
       "    Disponibilité de matière grasse en quantité (g/personne/jour)  \\\n",
       "7                                                4.69               \n",
       "12                                               0.00               \n",
       "32                                               0.30               \n",
       "34                                               0.02               \n",
       "40                                               0.24               \n",
       "\n",
       "    Disponibilité de protéines en quantité (g/personne/jour)  \\\n",
       "7                                               36.91          \n",
       "12                                               0.00          \n",
       "32                                               0.56          \n",
       "34                                               0.08          \n",
       "40                                               0.79          \n",
       "\n",
       "    Disponibilité intérieure  Exportations - Quantité  \\\n",
       "7                  5992000.0                      NaN   \n",
       "12                       0.0                      NaN   \n",
       "32                  313000.0                      0.0   \n",
       "34                   13000.0                      NaN   \n",
       "40                  524000.0                      NaN   \n",
       "\n",
       "    Importations - Quantité  Nourriture    Pertes  Production  Semences  \\\n",
       "7                 1173000.0   4895000.0  775000.0   5169000.0  322000.0   \n",
       "12                      0.0         0.0       NaN         NaN       NaN   \n",
       "32                   1000.0     76000.0   31000.0    312000.0    5000.0   \n",
       "34                      NaN     12000.0    1000.0     13000.0       0.0   \n",
       "40                  10000.0     89000.0   52000.0    514000.0   22000.0   \n",
       "\n",
       "    Traitement  Variation de stock  \n",
       "7          NaN           -350000.0  \n",
       "12         NaN                 NaN  \n",
       "32         NaN                 NaN  \n",
       "34         NaN                 NaN  \n",
       "40         NaN                 0.0  "
      ]
     },
     "execution_count": 57,
     "metadata": {},
     "output_type": "execute_result"
    }
   ],
   "source": [
    "dispo_cereales.head()"
   ]
  },
  {
   "cell_type": "markdown",
   "id": "3cfee31f",
   "metadata": {},
   "source": [
    "### Répartition de l'utilisation des céréales en 2013"
   ]
  },
  {
   "cell_type": "code",
   "execution_count": 58,
   "id": "49ab0dd0",
   "metadata": {},
   "outputs": [
    {
     "name": "stdout",
     "output_type": "stream",
     "text": [
      "Proportion de  Nourriture 33.74 %\n",
      "Proportion de  Pertes 4.13 %\n",
      "Proportion de  Aliments pour animaux 43.49 %\n",
      "Proportion de  Autres Utilisations 11.20 %\n",
      "Proportion de  Semences 2.92 %\n",
      "Proportion de  Traitement 4.55 %\n"
     ]
    }
   ],
   "source": [
    "dispo_cereales_pourcentage=dispo_cereales['Disponibilité intérieure'].sum()\n",
    "for e in ['Nourriture','Pertes','Aliments pour animaux','Autres Utilisations','Semences','Traitement'] :\n",
    "        print(\"Proportion de \",e,\"{:.2f}\".format(dispo_cereales[e].sum()*100/dispo_cereales_pourcentage), \"%\") "
   ]
  },
  {
   "cell_type": "code",
   "execution_count": 59,
   "id": "fadc6628",
   "metadata": {},
   "outputs": [],
   "source": [
    "utilisation_cereales_toutescat=dispo_cereales[\n",
    "    ['Nourriture','Pertes','Aliments pour animaux','Autres Utilisations','Semences','Traitement']]"
   ]
  },
  {
   "cell_type": "code",
   "execution_count": 60,
   "id": "338c8ec5",
   "metadata": {},
   "outputs": [],
   "source": [
    "total_utilisation_cereales_toutescat = utilisation_cereales_toutescat.sum(axis=0)"
   ]
  },
  {
   "cell_type": "code",
   "execution_count": 61,
   "id": "c1d261c7",
   "metadata": {},
   "outputs": [],
   "source": [
    "plage_donnees_3=['Nourriture','Pertes','Aliments pour animaux','Autres Utilisations','Semences','Traitement']"
   ]
  },
  {
   "cell_type": "code",
   "execution_count": 62,
   "id": "20322d40",
   "metadata": {},
   "outputs": [
    {
     "data": {
      "image/png": "[encoded data removed]",
      "text/plain": [
       "<Figure size 864x576 with 1 Axes>"
      ]
     },
     "metadata": {},
     "output_type": "display_data"
    },
    {
     "data": {
      "text/plain": [
       "<Figure size 432x288 with 0 Axes>"
      ]
     },
     "metadata": {},
     "output_type": "display_data"
    }
   ],
   "source": [
    "plt.figure(figsize=(12,8))\n",
    "plt.pie(total_utilisation_cereales_toutescat,labels=plage_donnees_3,autopct='%1.1f%%',\n",
    "        colors = ['#0071C6','#008DB8','#00AAAA','#00C69C','#00E28E','#00FF80'])\n",
    "plt.title('Utilisation des céréales',fontsize=25)\n",
    "plt.axis('equal')\n",
    "plt.show()\n",
    "plt.savefig('Utilisation_cereales_monde.png')"
   ]
  },
  {
   "cell_type": "markdown",
   "id": "b9353393",
   "metadata": {},
   "source": [
    "### Utilisation de la disponibilité : comparaison des proportions utilisées pour l'alimentation animale et humaine"
   ]
  },
  {
   "cell_type": "code",
   "execution_count": 63,
   "id": "08f7ae85",
   "metadata": {},
   "outputs": [],
   "source": [
    "utilisation_cereales=dispo_cereales[['Aliments pour animaux','Nourriture']]"
   ]
  },
  {
   "cell_type": "code",
   "execution_count": 64,
   "id": "611e000a",
   "metadata": {},
   "outputs": [
    {
     "name": "stdout",
     "output_type": "stream",
     "text": [
      "Aliments pour animaux    839941000.0\n",
      "Nourriture               651724000.0\n",
      "dtype: float64\n"
     ]
    }
   ],
   "source": [
    "total_utilisation_cereales = utilisation_cereales.sum(axis=0)\n",
    "print (total_utilisation_cereales)"
   ]
  },
  {
   "cell_type": "code",
   "execution_count": 65,
   "id": "7ed3f6a3",
   "metadata": {},
   "outputs": [],
   "source": [
    "plage_donnees_2=['Aliments pour animaux','Nourriture']"
   ]
  },
  {
   "cell_type": "code",
   "execution_count": 66,
   "id": "d1d52347",
   "metadata": {},
   "outputs": [
    {
     "data": {
      "image/png": "[encoded data removed]",
      "text/plain": [
       "<Figure size 864x576 with 1 Axes>"
      ]
     },
     "metadata": {},
     "output_type": "display_data"
    },
    {
     "data": {
      "text/plain": [
       "<Figure size 432x288 with 0 Axes>"
      ]
     },
     "metadata": {},
     "output_type": "display_data"
    }
   ],
   "source": [
    "plt.figure(figsize=(12,8))\n",
    "plt.pie(total_utilisation_cereales,labels=plage_donnees_2,autopct='%1.1f%%',colors=['#0071C6','#00AAAA'])\n",
    "plt.title('Alimentation animale et nourriture : utilisation des céréales',fontsize=25)\n",
    "plt.axis('equal')\n",
    "plt.show()\n",
    "plt.savefig('Alimentation_animale_humaine.png')"
   ]
  },
  {
   "cell_type": "markdown",
   "id": "24240b95",
   "metadata": {},
   "source": [
    "## 8-3 Allocation de la production de manioc en Thaillande : \n",
    "L'exportation dépasse largement la part réservée à la nourriture malgré un taux de sous-nutrition élevé dans le pays (6,2 millions de personnes sous alimentées en 2013)."
   ]
  },
  {
   "cell_type": "code",
   "execution_count": 67,
   "id": "7a8daafb",
   "metadata": {},
   "outputs": [
    {
     "data": {
      "text/html": [
       "<div>\n",
       "<style scoped>\n",
       "    .dataframe tbody tr th:only-of-type {\n",
       "        vertical-align: middle;\n",
       "    }\n",
       "\n",
       "    .dataframe tbody tr th {\n",
       "        vertical-align: top;\n",
       "    }\n",
       "\n",
       "    .dataframe thead th {\n",
       "        text-align: right;\n",
       "    }\n",
       "</style>\n",
       "<table border=\"1\" class=\"dataframe\">\n",
       "  <thead>\n",
       "    <tr style=\"text-align: right;\">\n",
       "      <th></th>\n",
       "      <th>Zone</th>\n",
       "      <th>Produit</th>\n",
       "      <th>Origine</th>\n",
       "      <th>Aliments pour animaux</th>\n",
       "      <th>Autres Utilisations</th>\n",
       "      <th>Disponibilité alimentaire (Kcal/personne/jour)</th>\n",
       "      <th>Disponibilité alimentaire en quantité (kg/personne/an)</th>\n",
       "      <th>Disponibilité de matière grasse en quantité (g/personne/jour)</th>\n",
       "      <th>Disponibilité de protéines en quantité (g/personne/jour)</th>\n",
       "      <th>Disponibilité intérieure</th>\n",
       "      <th>Exportations - Quantité</th>\n",
       "      <th>Importations - Quantité</th>\n",
       "      <th>Nourriture</th>\n",
       "      <th>Pertes</th>\n",
       "      <th>Production</th>\n",
       "      <th>Semences</th>\n",
       "      <th>Traitement</th>\n",
       "      <th>Variation de stock</th>\n",
       "    </tr>\n",
       "  </thead>\n",
       "  <tbody>\n",
       "    <tr>\n",
       "      <th>13809</th>\n",
       "      <td>Thaïlande</td>\n",
       "      <td>Manioc</td>\n",
       "      <td>vegetale</td>\n",
       "      <td>1800000.0</td>\n",
       "      <td>2081000.0</td>\n",
       "      <td>40.0</td>\n",
       "      <td>13.0</td>\n",
       "      <td>0.05</td>\n",
       "      <td>0.14</td>\n",
       "      <td>6264000.0</td>\n",
       "      <td>25214000.0</td>\n",
       "      <td>1250000.0</td>\n",
       "      <td>871000.0</td>\n",
       "      <td>1511000.0</td>\n",
       "      <td>30228000.0</td>\n",
       "      <td>NaN</td>\n",
       "      <td>0.0</td>\n",
       "      <td>0.0</td>\n",
       "    </tr>\n",
       "  </tbody>\n",
       "</table>\n",
       "</div>"
      ],
      "text/plain": [
       "            Zone Produit   Origine  Aliments pour animaux  \\\n",
       "13809  Thaïlande  Manioc  vegetale              1800000.0   \n",
       "\n",
       "       Autres Utilisations  Disponibilité alimentaire (Kcal/personne/jour)  \\\n",
       "13809            2081000.0                                            40.0   \n",
       "\n",
       "       Disponibilité alimentaire en quantité (kg/personne/an)  \\\n",
       "13809                                               13.0        \n",
       "\n",
       "       Disponibilité de matière grasse en quantité (g/personne/jour)  \\\n",
       "13809                                               0.05               \n",
       "\n",
       "       Disponibilité de protéines en quantité (g/personne/jour)  \\\n",
       "13809                                               0.14          \n",
       "\n",
       "       Disponibilité intérieure  Exportations - Quantité  \\\n",
       "13809                 6264000.0               25214000.0   \n",
       "\n",
       "       Importations - Quantité  Nourriture     Pertes  Production  Semences  \\\n",
       "13809                1250000.0    871000.0  1511000.0  30228000.0       NaN   \n",
       "\n",
       "       Traitement  Variation de stock  \n",
       "13809         0.0                 0.0  "
      ]
     },
     "execution_count": 67,
     "metadata": {},
     "output_type": "execute_result"
    }
   ],
   "source": [
    "manioc= dispo_alimentaire[(dispo_alimentaire['Zone']=='Thaïlande')&(dispo_alimentaire['Produit']=='Manioc')]\n",
    "manioc.head()"
   ]
  },
  {
   "cell_type": "code",
   "execution_count": 68,
   "id": "f3cbad0e",
   "metadata": {},
   "outputs": [
    {
     "name": "stdout",
     "output_type": "stream",
     "text": [
      "Proportion de  Nourriture 2.88 %\n",
      "Proportion de  Exportations - Quantité 83.41 %\n"
     ]
    }
   ],
   "source": [
    "essaie_manioc_2=manioc['Production'].sum()\n",
    "for n in ['Nourriture','Exportations - Quantité'] :\n",
    "        print(\"Proportion de \",n,\"{:.2f}\".format(manioc[n].sum()*100/essaie_manioc_2), \"%\")"
   ]
  },
  {
   "cell_type": "code",
   "execution_count": 69,
   "id": "f7a1dbfc",
   "metadata": {},
   "outputs": [],
   "source": [
    "plage_donnees_prod_x=['Nourriture','Exportations - Quantité']"
   ]
  },
  {
   "cell_type": "code",
   "execution_count": 70,
   "id": "14ef5906",
   "metadata": {},
   "outputs": [],
   "source": [
    "plage_donnees_prod_y=[0.871,25.214]"
   ]
  },
  {
   "cell_type": "code",
   "execution_count": 71,
   "id": "635ccb7f",
   "metadata": {},
   "outputs": [
    {
     "data": {
      "image/png": "[encoded data removed]",
      "text/plain": [
       "<Figure size 864x576 with 1 Axes>"
      ]
     },
     "metadata": {
      "needs_background": "light"
     },
     "output_type": "display_data"
    }
   ],
   "source": [
    "plt.figure(figsize=(12,8))\n",
    "plt.bar(plage_donnees_prod_x,plage_donnees_prod_y, width = 0.6, color = '#00C69C',\n",
    "  edgecolor = 'pink',linewidth = 2)\n",
    "plt.title('Production de manioc en Thaïlande',fontsize=25)\n",
    "plt.ylabel('Quantité en million de tonnes')\n",
    "plt.xlabel('Utilisation du Manioc')\n",
    "plt.savefig('manioc.png')"
   ]
  },
  {
   "cell_type": "markdown",
   "id": "ed0e089f",
   "metadata": {},
   "source": [
    "### Proportion de personnes en état de sous-nutrition en Thaîlande."
   ]
  },
  {
   "cell_type": "code",
   "execution_count": 72,
   "id": "a914a89b",
   "metadata": {},
   "outputs": [
    {
     "name": "stdout",
     "output_type": "stream",
     "text": [
      "          Zone  nbre_habitants  sous_nutrition  proportion_par_pays\n",
      "185  Thaïlande      68144518.0       6200000.0             9.098311\n"
     ]
    }
   ],
   "source": [
    "proportion_sousnut_thailande=prop_sous_nutrition_2013[(prop_sous_nutrition_2013['Zone']=='Thaïlande')]\n",
    "print(proportion_sousnut_thailande)"
   ]
  },
  {
   "cell_type": "markdown",
   "id": "5921d408",
   "metadata": {},
   "source": [
    "### La Thaïlande est le premier exportateur mondial de manioc (25 Millards de tonnes)."
   ]
  },
  {
   "cell_type": "code",
   "execution_count": 73,
   "id": "11d0474d",
   "metadata": {},
   "outputs": [],
   "source": [
    "premier_exportateur_manioc=dispo_alimentaire[(dispo_alimentaire['Produit']=='Manioc')]"
   ]
  },
  {
   "cell_type": "code",
   "execution_count": 74,
   "id": "2129858a",
   "metadata": {},
   "outputs": [
    {
     "data": {
      "text/html": [
       "<div>\n",
       "<style scoped>\n",
       "    .dataframe tbody tr th:only-of-type {\n",
       "        vertical-align: middle;\n",
       "    }\n",
       "\n",
       "    .dataframe tbody tr th {\n",
       "        vertical-align: top;\n",
       "    }\n",
       "\n",
       "    .dataframe thead th {\n",
       "        text-align: right;\n",
       "    }\n",
       "</style>\n",
       "<table border=\"1\" class=\"dataframe\">\n",
       "  <thead>\n",
       "    <tr style=\"text-align: right;\">\n",
       "      <th></th>\n",
       "      <th>Zone</th>\n",
       "      <th>Produit</th>\n",
       "      <th>Exportations - Quantité</th>\n",
       "    </tr>\n",
       "  </thead>\n",
       "  <tbody>\n",
       "    <tr>\n",
       "      <th>13809</th>\n",
       "      <td>Thaïlande</td>\n",
       "      <td>Manioc</td>\n",
       "      <td>25214000.0</td>\n",
       "    </tr>\n",
       "    <tr>\n",
       "      <th>14743</th>\n",
       "      <td>Viet Nam</td>\n",
       "      <td>Manioc</td>\n",
       "      <td>8973000.0</td>\n",
       "    </tr>\n",
       "    <tr>\n",
       "      <th>6334</th>\n",
       "      <td>Indonésie</td>\n",
       "      <td>Manioc</td>\n",
       "      <td>820000.0</td>\n",
       "    </tr>\n",
       "    <tr>\n",
       "      <th>2665</th>\n",
       "      <td>Cambodge</td>\n",
       "      <td>Manioc</td>\n",
       "      <td>254000.0</td>\n",
       "    </tr>\n",
       "    <tr>\n",
       "      <th>10752</th>\n",
       "      <td>Paraguay</td>\n",
       "      <td>Manioc</td>\n",
       "      <td>164000.0</td>\n",
       "    </tr>\n",
       "  </tbody>\n",
       "</table>\n",
       "</div>"
      ],
      "text/plain": [
       "            Zone Produit  Exportations - Quantité\n",
       "13809  Thaïlande  Manioc               25214000.0\n",
       "14743   Viet Nam  Manioc                8973000.0\n",
       "6334   Indonésie  Manioc                 820000.0\n",
       "2665    Cambodge  Manioc                 254000.0\n",
       "10752   Paraguay  Manioc                 164000.0"
      ]
     },
     "execution_count": 74,
     "metadata": {},
     "output_type": "execute_result"
    }
   ],
   "source": [
    "premier_exportateur_manioc[['Zone','Produit','Exportations - Quantité']].sort_values(\n",
    "    'Exportations - Quantité',ascending=False).head(5)"
   ]
  },
  {
   "cell_type": "code",
   "execution_count": 75,
   "id": "520951c3",
   "metadata": {},
   "outputs": [],
   "source": [
    "chiffre_thai=premier_exportateur_manioc[(premier_exportateur_manioc['Zone']=='Thaïlande')]"
   ]
  },
  {
   "cell_type": "code",
   "execution_count": 76,
   "id": "645544ad",
   "metadata": {},
   "outputs": [
    {
     "name": "stdout",
     "output_type": "stream",
     "text": [
      "Part de l'exportation mondiale de manioc réalisée par la Thaïlande : 13809    69.937868\n",
      "Name: Exportations - Quantité, dtype: float64 %\n"
     ]
    }
   ],
   "source": [
    "print(\"Part de l'exportation mondiale de manioc réalisée par la Thaïlande :\",\n",
    "      chiffre_thai['Exportations - Quantité']*100/premier_exportateur_manioc['Exportations - Quantité'].sum(),\"%\")"
   ]
  },
  {
   "cell_type": "markdown",
   "id": "6bd69d9e",
   "metadata": {},
   "source": [
    "## 8-4 Le taux de sous-nutrition est corrélé négativement à la disponibilté alimentaire :\n",
    "Une disponibilité alimentaire faible se traduit par un taux de sous-nutrition élevé.\n"
   ]
  },
  {
   "cell_type": "code",
   "execution_count": 77,
   "id": "33fc985d",
   "metadata": {},
   "outputs": [
    {
     "data": {
      "text/html": [
       "<div>\n",
       "<style scoped>\n",
       "    .dataframe tbody tr th:only-of-type {\n",
       "        vertical-align: middle;\n",
       "    }\n",
       "\n",
       "    .dataframe tbody tr th {\n",
       "        vertical-align: top;\n",
       "    }\n",
       "\n",
       "    .dataframe thead th {\n",
       "        text-align: right;\n",
       "    }\n",
       "</style>\n",
       "<table border=\"1\" class=\"dataframe\">\n",
       "  <thead>\n",
       "    <tr style=\"text-align: right;\">\n",
       "      <th></th>\n",
       "      <th>Zone</th>\n",
       "      <th>nbre_habitants</th>\n",
       "      <th>Disponibilité alimentaire (Kcal/personne/jour)</th>\n",
       "      <th>Dispo_kcal</th>\n",
       "    </tr>\n",
       "  </thead>\n",
       "  <tbody>\n",
       "    <tr>\n",
       "      <th>0</th>\n",
       "      <td>Afghanistan</td>\n",
       "      <td>32269589.0</td>\n",
       "      <td>2087.0</td>\n",
       "      <td>6.734663e+10</td>\n",
       "    </tr>\n",
       "    <tr>\n",
       "      <th>1</th>\n",
       "      <td>Afrique du Sud</td>\n",
       "      <td>53687121.0</td>\n",
       "      <td>3020.0</td>\n",
       "      <td>1.621351e+11</td>\n",
       "    </tr>\n",
       "    <tr>\n",
       "      <th>2</th>\n",
       "      <td>Albanie</td>\n",
       "      <td>2903790.0</td>\n",
       "      <td>3188.0</td>\n",
       "      <td>9.257283e+09</td>\n",
       "    </tr>\n",
       "    <tr>\n",
       "      <th>3</th>\n",
       "      <td>Algérie</td>\n",
       "      <td>38140133.0</td>\n",
       "      <td>3293.0</td>\n",
       "      <td>1.255955e+11</td>\n",
       "    </tr>\n",
       "    <tr>\n",
       "      <th>4</th>\n",
       "      <td>Allemagne</td>\n",
       "      <td>81174367.0</td>\n",
       "      <td>3503.0</td>\n",
       "      <td>2.843538e+11</td>\n",
       "    </tr>\n",
       "  </tbody>\n",
       "</table>\n",
       "</div>"
      ],
      "text/plain": [
       "             Zone  nbre_habitants  \\\n",
       "0     Afghanistan      32269589.0   \n",
       "1  Afrique du Sud      53687121.0   \n",
       "2         Albanie       2903790.0   \n",
       "3         Algérie      38140133.0   \n",
       "4       Allemagne      81174367.0   \n",
       "\n",
       "   Disponibilité alimentaire (Kcal/personne/jour)    Dispo_kcal  \n",
       "0                                          2087.0  6.734663e+10  \n",
       "1                                          3020.0  1.621351e+11  \n",
       "2                                          3188.0  9.257283e+09  \n",
       "3                                          3293.0  1.255955e+11  \n",
       "4                                          3503.0  2.843538e+11  "
      ]
     },
     "execution_count": 77,
     "metadata": {},
     "output_type": "execute_result"
    }
   ],
   "source": [
    "dispo_alimentaire_theorique.head()"
   ]
  },
  {
   "cell_type": "code",
   "execution_count": 78,
   "id": "57afa209",
   "metadata": {},
   "outputs": [],
   "source": [
    "dispo_kcal_10pays_2013=pd.merge(\n",
    "    dispo_alimentaire_theorique[['Zone','Disponibilité alimentaire (Kcal/personne/jour)']],\n",
    "                               prop_sous_nutrition_2013[['Zone','proportion_par_pays']], \n",
    "                               on='Zone')"
   ]
  },
  {
   "cell_type": "code",
   "execution_count": 79,
   "id": "94e70603",
   "metadata": {},
   "outputs": [
    {
     "data": {
      "text/html": [
       "<div>\n",
       "<style scoped>\n",
       "    .dataframe tbody tr th:only-of-type {\n",
       "        vertical-align: middle;\n",
       "    }\n",
       "\n",
       "    .dataframe tbody tr th {\n",
       "        vertical-align: top;\n",
       "    }\n",
       "\n",
       "    .dataframe thead th {\n",
       "        text-align: right;\n",
       "    }\n",
       "</style>\n",
       "<table border=\"1\" class=\"dataframe\">\n",
       "  <thead>\n",
       "    <tr style=\"text-align: right;\">\n",
       "      <th></th>\n",
       "      <th>Zone</th>\n",
       "      <th>Disponibilité alimentaire (Kcal/personne/jour)</th>\n",
       "      <th>proportion_par_pays</th>\n",
       "    </tr>\n",
       "  </thead>\n",
       "  <tbody>\n",
       "    <tr>\n",
       "      <th>70</th>\n",
       "      <td>Haïti</td>\n",
       "      <td>2089.0</td>\n",
       "      <td>49.035279</td>\n",
       "    </tr>\n",
       "    <tr>\n",
       "      <th>136</th>\n",
       "      <td>République populaire démocratique de Corée</td>\n",
       "      <td>2093.0</td>\n",
       "      <td>41.316518</td>\n",
       "    </tr>\n",
       "    <tr>\n",
       "      <th>156</th>\n",
       "      <td>Tchad</td>\n",
       "      <td>2109.0</td>\n",
       "      <td>37.063839</td>\n",
       "    </tr>\n",
       "    <tr>\n",
       "      <th>93</th>\n",
       "      <td>Libéria</td>\n",
       "      <td>2206.0</td>\n",
       "      <td>35.307958</td>\n",
       "    </tr>\n",
       "    <tr>\n",
       "      <th>158</th>\n",
       "      <td>Timor-Leste</td>\n",
       "      <td>2129.0</td>\n",
       "      <td>34.683264</td>\n",
       "    </tr>\n",
       "    <tr>\n",
       "      <th>97</th>\n",
       "      <td>Madagascar</td>\n",
       "      <td>2056.0</td>\n",
       "      <td>33.099236</td>\n",
       "    </tr>\n",
       "    <tr>\n",
       "      <th>147</th>\n",
       "      <td>Sierra Leone</td>\n",
       "      <td>2401.0</td>\n",
       "      <td>32.051371</td>\n",
       "    </tr>\n",
       "    <tr>\n",
       "      <th>39</th>\n",
       "      <td>Congo</td>\n",
       "      <td>2206.0</td>\n",
       "      <td>30.284925</td>\n",
       "    </tr>\n",
       "    <tr>\n",
       "      <th>5</th>\n",
       "      <td>Angola</td>\n",
       "      <td>2474.0</td>\n",
       "      <td>29.213038</td>\n",
       "    </tr>\n",
       "    <tr>\n",
       "      <th>137</th>\n",
       "      <td>République-Unie de Tanzanie</td>\n",
       "      <td>2204.0</td>\n",
       "      <td>27.844737</td>\n",
       "    </tr>\n",
       "  </tbody>\n",
       "</table>\n",
       "</div>"
      ],
      "text/plain": [
       "                                           Zone  \\\n",
       "70                                        Haïti   \n",
       "136  République populaire démocratique de Corée   \n",
       "156                                       Tchad   \n",
       "93                                      Libéria   \n",
       "158                                 Timor-Leste   \n",
       "97                                   Madagascar   \n",
       "147                                Sierra Leone   \n",
       "39                                        Congo   \n",
       "5                                        Angola   \n",
       "137                 République-Unie de Tanzanie   \n",
       "\n",
       "     Disponibilité alimentaire (Kcal/personne/jour)  proportion_par_pays  \n",
       "70                                           2089.0            49.035279  \n",
       "136                                          2093.0            41.316518  \n",
       "156                                          2109.0            37.063839  \n",
       "93                                           2206.0            35.307958  \n",
       "158                                          2129.0            34.683264  \n",
       "97                                           2056.0            33.099236  \n",
       "147                                          2401.0            32.051371  \n",
       "39                                           2206.0            30.284925  \n",
       "5                                            2474.0            29.213038  \n",
       "137                                          2204.0            27.844737  "
      ]
     },
     "execution_count": 79,
     "metadata": {},
     "output_type": "execute_result"
    }
   ],
   "source": [
    "dispo_kcal_10pays_2013.sort_values('proportion_par_pays',ascending=False).head(10)"
   ]
  },
  {
   "cell_type": "code",
   "execution_count": 80,
   "id": "6df7ce1c",
   "metadata": {},
   "outputs": [
    {
     "data": {
      "text/html": [
       "<div>\n",
       "<style scoped>\n",
       "    .dataframe tbody tr th:only-of-type {\n",
       "        vertical-align: middle;\n",
       "    }\n",
       "\n",
       "    .dataframe tbody tr th {\n",
       "        vertical-align: top;\n",
       "    }\n",
       "\n",
       "    .dataframe thead th {\n",
       "        text-align: right;\n",
       "    }\n",
       "</style>\n",
       "<table border=\"1\" class=\"dataframe\">\n",
       "  <thead>\n",
       "    <tr style=\"text-align: right;\">\n",
       "      <th></th>\n",
       "      <th>Zone</th>\n",
       "      <th>Disponibilité alimentaire (Kcal/personne/jour)</th>\n",
       "      <th>proportion_par_pays</th>\n",
       "    </tr>\n",
       "  </thead>\n",
       "  <tbody>\n",
       "    <tr>\n",
       "      <th>131</th>\n",
       "      <td>République centrafricaine</td>\n",
       "      <td>1879.0</td>\n",
       "      <td>NaN</td>\n",
       "    </tr>\n",
       "    <tr>\n",
       "      <th>170</th>\n",
       "      <td>Zambie</td>\n",
       "      <td>1924.0</td>\n",
       "      <td>NaN</td>\n",
       "    </tr>\n",
       "    <tr>\n",
       "      <th>97</th>\n",
       "      <td>Madagascar</td>\n",
       "      <td>2056.0</td>\n",
       "      <td>33.099236</td>\n",
       "    </tr>\n",
       "    <tr>\n",
       "      <th>0</th>\n",
       "      <td>Afghanistan</td>\n",
       "      <td>2087.0</td>\n",
       "      <td>26.650479</td>\n",
       "    </tr>\n",
       "    <tr>\n",
       "      <th>70</th>\n",
       "      <td>Haïti</td>\n",
       "      <td>2089.0</td>\n",
       "      <td>49.035279</td>\n",
       "    </tr>\n",
       "    <tr>\n",
       "      <th>136</th>\n",
       "      <td>République populaire démocratique de Corée</td>\n",
       "      <td>2093.0</td>\n",
       "      <td>41.316518</td>\n",
       "    </tr>\n",
       "    <tr>\n",
       "      <th>156</th>\n",
       "      <td>Tchad</td>\n",
       "      <td>2109.0</td>\n",
       "      <td>37.063839</td>\n",
       "    </tr>\n",
       "    <tr>\n",
       "      <th>171</th>\n",
       "      <td>Zimbabwe</td>\n",
       "      <td>2113.0</td>\n",
       "      <td>NaN</td>\n",
       "    </tr>\n",
       "    <tr>\n",
       "      <th>120</th>\n",
       "      <td>Ouganda</td>\n",
       "      <td>2126.0</td>\n",
       "      <td>NaN</td>\n",
       "    </tr>\n",
       "    <tr>\n",
       "      <th>55</th>\n",
       "      <td>Éthiopie</td>\n",
       "      <td>2129.0</td>\n",
       "      <td>27.467401</td>\n",
       "    </tr>\n",
       "  </tbody>\n",
       "</table>\n",
       "</div>"
      ],
      "text/plain": [
       "                                           Zone  \\\n",
       "131                   République centrafricaine   \n",
       "170                                      Zambie   \n",
       "97                                   Madagascar   \n",
       "0                                   Afghanistan   \n",
       "70                                        Haïti   \n",
       "136  République populaire démocratique de Corée   \n",
       "156                                       Tchad   \n",
       "171                                    Zimbabwe   \n",
       "120                                     Ouganda   \n",
       "55                                     Éthiopie   \n",
       "\n",
       "     Disponibilité alimentaire (Kcal/personne/jour)  proportion_par_pays  \n",
       "131                                          1879.0                  NaN  \n",
       "170                                          1924.0                  NaN  \n",
       "97                                           2056.0            33.099236  \n",
       "0                                            2087.0            26.650479  \n",
       "70                                           2089.0            49.035279  \n",
       "136                                          2093.0            41.316518  \n",
       "156                                          2109.0            37.063839  \n",
       "171                                          2113.0                  NaN  \n",
       "120                                          2126.0                  NaN  \n",
       "55                                           2129.0            27.467401  "
      ]
     },
     "execution_count": 80,
     "metadata": {},
     "output_type": "execute_result"
    }
   ],
   "source": [
    "dispo_kcal_10pays_2013.sort_values('Disponibilité alimentaire (Kcal/personne/jour)',ascending=True).head(10)"
   ]
  },
  {
   "cell_type": "code",
   "execution_count": 81,
   "id": "6a567e46",
   "metadata": {},
   "outputs": [],
   "source": [
    "x=dispo_kcal_10pays_2013['Disponibilité alimentaire (Kcal/personne/jour)']"
   ]
  },
  {
   "cell_type": "code",
   "execution_count": 82,
   "id": "3e0a8bdd",
   "metadata": {},
   "outputs": [],
   "source": [
    "y=dispo_kcal_10pays_2013['proportion_par_pays']"
   ]
  },
  {
   "cell_type": "code",
   "execution_count": 83,
   "id": "cfec6b6b",
   "metadata": {},
   "outputs": [
    {
     "data": {
      "image/png": "[encoded data removed]",
      "text/plain": [
       "<Figure size 864x576 with 1 Axes>"
      ]
     },
     "metadata": {
      "needs_background": "light"
     },
     "output_type": "display_data"
    }
   ],
   "source": [
    "plt.figure(figsize=(12,8))\n",
    "plt.scatter(y,x,color='#00C69C')\n",
    "plt.ylabel('Disponibilité en kcal par jour par personne')\n",
    "plt.xlabel('Taux de sous nutrition par pays')\n",
    "plt.title('Corrélation entre disponibilité alimentaire et taux de sous-nutrition dans le monde',fontsize=25)\n",
    "plt.savefig('Corrélationdispoal_txsousnut.png')"
   ]
  },
  {
   "cell_type": "markdown",
   "id": "d2cdc0e4",
   "metadata": {},
   "source": [
    "## 8-5 Evolution des quantités d'aides"
   ]
  },
  {
   "cell_type": "code",
   "execution_count": 84,
   "id": "4d401d89",
   "metadata": {},
   "outputs": [
    {
     "data": {
      "text/html": [
       "<div>\n",
       "<style scoped>\n",
       "    .dataframe tbody tr th:only-of-type {\n",
       "        vertical-align: middle;\n",
       "    }\n",
       "\n",
       "    .dataframe tbody tr th {\n",
       "        vertical-align: top;\n",
       "    }\n",
       "\n",
       "    .dataframe thead th {\n",
       "        text-align: right;\n",
       "    }\n",
       "</style>\n",
       "<table border=\"1\" class=\"dataframe\">\n",
       "  <thead>\n",
       "    <tr style=\"text-align: right;\">\n",
       "      <th></th>\n",
       "      <th>Zone</th>\n",
       "      <th>Année</th>\n",
       "      <th>Produit</th>\n",
       "      <th>Quantite_aide</th>\n",
       "    </tr>\n",
       "  </thead>\n",
       "  <tbody>\n",
       "    <tr>\n",
       "      <th>0</th>\n",
       "      <td>Afghanistan</td>\n",
       "      <td>2013</td>\n",
       "      <td>Autres non-céréales</td>\n",
       "      <td>682</td>\n",
       "    </tr>\n",
       "    <tr>\n",
       "      <th>1</th>\n",
       "      <td>Afghanistan</td>\n",
       "      <td>2014</td>\n",
       "      <td>Autres non-céréales</td>\n",
       "      <td>335</td>\n",
       "    </tr>\n",
       "    <tr>\n",
       "      <th>2</th>\n",
       "      <td>Afghanistan</td>\n",
       "      <td>2013</td>\n",
       "      <td>Blé et Farin</td>\n",
       "      <td>39224</td>\n",
       "    </tr>\n",
       "    <tr>\n",
       "      <th>3</th>\n",
       "      <td>Afghanistan</td>\n",
       "      <td>2014</td>\n",
       "      <td>Blé et Farin</td>\n",
       "      <td>15160</td>\n",
       "    </tr>\n",
       "    <tr>\n",
       "      <th>4</th>\n",
       "      <td>Afghanistan</td>\n",
       "      <td>2013</td>\n",
       "      <td>Céréales</td>\n",
       "      <td>40504</td>\n",
       "    </tr>\n",
       "  </tbody>\n",
       "</table>\n",
       "</div>"
      ],
      "text/plain": [
       "          Zone  Année              Produit  Quantite_aide\n",
       "0  Afghanistan   2013  Autres non-céréales            682\n",
       "1  Afghanistan   2014  Autres non-céréales            335\n",
       "2  Afghanistan   2013         Blé et Farin          39224\n",
       "3  Afghanistan   2014         Blé et Farin          15160\n",
       "4  Afghanistan   2013             Céréales          40504"
      ]
     },
     "execution_count": 84,
     "metadata": {},
     "output_type": "execute_result"
    }
   ],
   "source": [
    "aide_alimentaire.head()"
   ]
  },
  {
   "cell_type": "code",
   "execution_count": 85,
   "id": "90f5acc8",
   "metadata": {},
   "outputs": [],
   "source": [
    "aide_alim=aide_alimentaire[['Année','Quantite_aide']]"
   ]
  },
  {
   "cell_type": "code",
   "execution_count": 86,
   "id": "a7793712",
   "metadata": {},
   "outputs": [],
   "source": [
    "evol_aide_alimentaire=aide_alim.groupby(['Année'])[['Quantite_aide']].sum()"
   ]
  },
  {
   "cell_type": "code",
   "execution_count": 87,
   "id": "72cd7607",
   "metadata": {},
   "outputs": [
    {
     "name": "stdout",
     "output_type": "stream",
     "text": [
      "       Quantite_aide\n",
      "Année               \n",
      "2013         4165674\n",
      "2014         3939152\n",
      "2015         2187507\n",
      "2016          743568\n"
     ]
    }
   ],
   "source": [
    "print(evol_aide_alimentaire)"
   ]
  },
  {
   "cell_type": "code",
   "execution_count": 88,
   "id": "944a170d",
   "metadata": {},
   "outputs": [],
   "source": [
    "plage_donnees_5=['2013','2014','2015','2016']"
   ]
  },
  {
   "cell_type": "code",
   "execution_count": 89,
   "id": "683c9b3f",
   "metadata": {},
   "outputs": [],
   "source": [
    "plage_donnees_6= [4.165674,3.939152,2.187507,0.743568]"
   ]
  },
  {
   "cell_type": "code",
   "execution_count": 90,
   "id": "61b90f1c",
   "metadata": {},
   "outputs": [
    {
     "data": {
      "image/png": "[encoded data removed]",
      "text/plain": [
       "<Figure size 864x576 with 1 Axes>"
      ]
     },
     "metadata": {
      "needs_background": "light"
     },
     "output_type": "display_data"
    }
   ],
   "source": [
    "plt.figure(figsize=(12,8))\n",
    "plt.bar(plage_donnees_5,plage_donnees_6, width = 0.6, color = '#00C69C',\n",
    "  edgecolor = 'pink', linewidth = 2)\n",
    "plt.title('Evolution des quantités d\\'aide alimentaire',fontsize=25)\n",
    "plt.ylabel('Quantités en tonnes')\n",
    "plt.xlabel('Années')\n",
    "plt.savefig('Evolution_quantité_aide.png')"
   ]
  },
  {
   "cell_type": "markdown",
   "id": "39e00807",
   "metadata": {},
   "source": [
    "### Alors que le nombre de personnes en sous-nutrition est en augmentation dans le monde..."
   ]
  },
  {
   "cell_type": "code",
   "execution_count": 91,
   "id": "8cdd6f24",
   "metadata": {},
   "outputs": [],
   "source": [
    "sous_nut_evol=sous_nut[['Année','sous_nutrition']]"
   ]
  },
  {
   "cell_type": "code",
   "execution_count": 92,
   "id": "e841f0dc",
   "metadata": {},
   "outputs": [
    {
     "name": "stdout",
     "output_type": "stream",
     "text": [
      "           sous_nutrition\n",
      "Année                    \n",
      "2012-2014     528100000.0\n",
      "2013-2015     523500000.0\n",
      "2014-2016     524700000.0\n",
      "2015-2017     528600000.0\n",
      "2016-2018     535700000.0\n",
      "2017-2019     544200000.0\n"
     ]
    }
   ],
   "source": [
    "sous_nut_evol=sous_nut_evol.groupby(['Année'])[['sous_nutrition']].sum()\n",
    "print(sous_nut_evol)"
   ]
  },
  {
   "cell_type": "code",
   "execution_count": 93,
   "id": "1a90ee3b",
   "metadata": {},
   "outputs": [],
   "source": [
    "plage_donnees_ss_nut1=['2013','2014','2015','2016','2017','2018']"
   ]
  },
  {
   "cell_type": "code",
   "execution_count": 94,
   "id": "3aa04170",
   "metadata": {},
   "outputs": [],
   "source": [
    "plage_donnees_ss_nut2=[528,524,525,529,536,544]"
   ]
  },
  {
   "cell_type": "code",
   "execution_count": 95,
   "id": "2f8ae8de",
   "metadata": {},
   "outputs": [
    {
     "data": {
      "image/png": "[encoded data removed]",
      "text/plain": [
       "<Figure size 864x576 with 1 Axes>"
      ]
     },
     "metadata": {
      "needs_background": "light"
     },
     "output_type": "display_data"
    }
   ],
   "source": [
    "plt.figure(figsize=(12,8))\n",
    "plt.bar(plage_donnees_ss_nut1,plage_donnees_ss_nut2,width = 0.5, color = '#00C69C',\n",
    "  edgecolor = 'pink', linewidth = 2)\n",
    "plt.title('Evolution du nombre de personne en sous-nutrition en millions',fontsize=25)\n",
    "plt.ylabel('Nombre de personne en millions')\n",
    "plt.xlabel('Années')\n",
    "plt.savefig('Evolution_sous_nut_barplot.png')"
   ]
  }
 ],
 "metadata": {
  "celltoolbar": "Aucun(e)",
  "kernelspec": {
   "display_name": "Python 3",
   "language": "python",
   "name": "python3"
  },
  "language_info": {
   "codemirror_mode": {
    "name": "ipython",
    "version": 3
   },
   "file_extension": ".py",
   "mimetype": "text/x-python",
   "name": "python",
   "nbconvert_exporter": "python",
   "pygments_lexer": "ipython3",
   "version": "3.8.8"
  }
 },
 "nbformat": 4,
 "nbformat_minor": 5
}
